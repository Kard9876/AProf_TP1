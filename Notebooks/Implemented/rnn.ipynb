{
 "cells": [
  {
   "cell_type": "code",
   "id": "initial_id",
   "metadata": {
    "collapsed": true,
    "ExecuteTime": {
     "end_time": "2025-03-11T14:21:31.109350Z",
     "start_time": "2025-03-11T14:21:26.962106Z"
    }
   },
   "source": [
    "# Import libraries and needed classes\n",
    "\n",
    "import numpy as np\n",
    "import sys\n",
    "import os\n",
    "\n",
    "from Code.RNN.layers.sigmoid import SigmoidActivation\n",
    "from Code.RNN.functions.metrics import mse, accuracy\n",
    "from Code.RNN.networks.recorrent_neural_network import RecorrentNeuralNetwork\n",
    "from Code.RNN.functions.mse import MeanSquaredError\n",
    "from Code.RNN.layers.rnn import RNN\n",
    "from Code.RNN.layers.dense import DenseLayer\n",
    "from Code.RNN.optimizations.retained_gradient import RetGradient\n",
    "from Code.DNN.optimizations.l2_reg import L2Reg\n",
    "from Code.RNN.functions.bce import BinaryCrossEntropy\n",
    "from Code.RNN.layers.relu import ReLUActivation\n",
    "\n",
    "from Code.utils.dataset import Dataset\n",
    "import Code.utils.store_model as store_model"
   ],
   "outputs": [],
   "execution_count": 1
  },
  {
   "metadata": {
    "ExecuteTime": {
     "end_time": "2025-03-11T14:21:31.440412Z",
     "start_time": "2025-03-11T14:21:31.434018Z"
    }
   },
   "cell_type": "code",
   "source": [
    "# Set random seed to control randomness\n",
    "\n",
    "np.random.seed(42)"
   ],
   "id": "f5a7ebf885f373b7",
   "outputs": [],
   "execution_count": 2
  },
  {
   "metadata": {
    "ExecuteTime": {
     "end_time": "2025-03-11T14:21:38.282932Z",
     "start_time": "2025-03-11T14:21:31.994706Z"
    }
   },
   "cell_type": "code",
   "source": [
    "# Read datasets\n",
    "\n",
    "dataset = Dataset('../../Dataset/DatasetsGerados/dataset_training_input.csv',\n",
    "                      '../../Dataset/DatasetsGerados/dataset_training_output.csv',\n",
    "                      '../../Dataset/DatasetsGerados/dataset_validation_input.csv',\n",
    "                      '../../Dataset/DatasetsGerados/dataset_validation_output.csv',\n",
    "                      '../../Dataset/DatasetsGerados/dataset_test_input.csv',\n",
    "                      '../../Dataset/DatasetsGerados/dataset_test_output.csv')\n",
    "\n",
    "X_train, y_train, X_validation, y_validation, X_test, y_test, ids = dataset.get_datasets('Text', 'Label', sep='\\t', rem_punctuation=False)"
   ],
   "id": "63c66708408a90ea",
   "outputs": [],
   "execution_count": 3
  },
  {
   "metadata": {
    "ExecuteTime": {
     "end_time": "2025-03-11T14:21:38.347158Z",
     "start_time": "2025-03-11T14:21:38.328481Z"
    }
   },
   "cell_type": "code",
   "source": [
    "# Build network\n",
    "\n",
    "timestep = 2\n",
    "batch_size = 8\n",
    "\n",
    "# network\n",
    "optimizer = RetGradient(learning_rate=0.005, momentum=0.90)\n",
    "loss = BinaryCrossEntropy()\n",
    "\n",
    "regulator = L2Reg(l2_val=0.001)\n",
    "net = RecorrentNeuralNetwork(epochs=3, batch_size=batch_size, optimizer=optimizer, regulator=regulator, verbose=True, loss=loss,\n",
    "                    metric=accuracy, patience=2, min_delta=0.001, timestep=timestep)\n",
    "\n",
    "net.add(RNN(5, input_shape=(timestep, X_train.shape[1])))\n",
    "net.add(SigmoidActivation())\n",
    "net.add(DenseLayer(1, timestep))\n",
    "net.add(SigmoidActivation())"
   ],
   "id": "de97e3448202a3f0",
   "outputs": [
    {
     "data": {
      "text/plain": [
       "<Code.RNN.networks.recorrent_neural_network.RecorrentNeuralNetwork at 0x1c326d72de0>"
      ]
     },
     "execution_count": 4,
     "metadata": {},
     "output_type": "execute_result"
    }
   ],
   "execution_count": 4
  },
  {
   "metadata": {
    "ExecuteTime": {
     "end_time": "2025-03-11T14:22:37.670645Z",
     "start_time": "2025-03-11T14:21:38.392790Z"
    }
   },
   "cell_type": "code",
   "source": [
    "# Train network\n",
    "\n",
    "net.fit(X_train, y_train, X_val=X_validation, y_val=y_validation)\n",
    "\n",
    "# Plot learning curves\n",
    "net.plot_train_curves()"
   ],
   "id": "dd82e522f4d50efc",
   "outputs": [
    {
     "name": "stdout",
     "output_type": "stream",
     "text": [
      "Epoch 1/3 - loss: 6042.0989 - accuracy: 0.8390\n",
      "Epoch 2/3 - loss: 2855.5032 - accuracy: 0.9117\n",
      "Epoch 3/3 - loss: 2777.7133 - accuracy: 0.9288\n"
     ]
    }
   ],
   "execution_count": 5
  },
  {
   "metadata": {
    "ExecuteTime": {
     "end_time": "2025-03-11T14:22:58.466729Z",
     "start_time": "2025-03-11T14:22:56.605985Z"
    }
   },
   "cell_type": "code",
   "source": [
    "# Test network\n",
    "\n",
    "out = net.predict(X_test)\n",
    "out = out.reshape(out.shape[1], 1)\n",
    "\n",
    "if y_test is not None:\n",
    "    print(net.score(y_test, out))"
   ],
   "id": "cbc7574e47bd40de",
   "outputs": [
    {
     "name": "stdout",
     "output_type": "stream",
     "text": [
      "0.95\n"
     ]
    }
   ],
   "execution_count": 12
  },
  {
   "metadata": {
    "ExecuteTime": {
     "end_time": "2025-03-11T14:22:40.532774Z",
     "start_time": "2025-03-11T14:22:40.490721Z"
    }
   },
   "cell_type": "code",
   "source": [
    "# Store results\n",
    "\n",
    "store_results = './Results/rnn_results.csv'\n",
    "\n",
    "# Ensure the directory exists\n",
    "os.makedirs(os.path.dirname(store_results), exist_ok=True)\n",
    "\n",
    "results = dataset.merge_results(ids, out)\n",
    "results.to_csv(store_results, sep='\\t', index=False)"
   ],
   "id": "daf8f3196b71f493",
   "outputs": [],
   "execution_count": 7
  },
  {
   "metadata": {
    "ExecuteTime": {
     "end_time": "2025-03-11T14:22:46.450187Z",
     "start_time": "2025-03-11T14:22:40.598837Z"
    }
   },
   "cell_type": "code",
   "source": [
    "# Store network model\n",
    "\n",
    "model_filepath = './Model/rnn'\n",
    "model_key = 'rnn'\n",
    "\n",
    "store_model.store_model(model_filepath, model_key, net)"
   ],
   "id": "381ee2120d4f01fa",
   "outputs": [],
   "execution_count": 8
  },
  {
   "metadata": {
    "ExecuteTime": {
     "end_time": "2025-03-11T14:22:47.602042Z",
     "start_time": "2025-03-11T14:22:46.524708Z"
    }
   },
   "cell_type": "code",
   "source": [
    "# Retrieve network model\n",
    "\n",
    "model_filepath = './Model/rnn'\n",
    "model_key = 'rnn'\n",
    "\n",
    "net = store_model.retrieve_model(model_filepath, model_key)"
   ],
   "id": "6b36f8376e961242",
   "outputs": [],
   "execution_count": 9
  }
 ],
 "metadata": {
  "kernelspec": {
   "display_name": "Python 3",
   "language": "python",
   "name": "python3"
  },
  "language_info": {
   "codemirror_mode": {
    "name": "ipython",
    "version": 2
   },
   "file_extension": ".py",
   "mimetype": "text/x-python",
   "name": "python",
   "nbconvert_exporter": "python",
   "pygments_lexer": "ipython2",
   "version": "2.7.6"
  }
 },
 "nbformat": 4,
 "nbformat_minor": 5
}
