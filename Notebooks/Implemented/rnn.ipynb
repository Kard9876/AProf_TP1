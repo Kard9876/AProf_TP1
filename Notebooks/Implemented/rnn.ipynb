{
 "cells": [
  {
   "cell_type": "code",
   "id": "initial_id",
   "metadata": {
    "collapsed": true,
    "ExecuteTime": {
     "end_time": "2025-03-16T18:58:36.043044Z",
     "start_time": "2025-03-16T18:58:33.155098Z"
    }
   },
   "source": [
    "# Import libraries and needed classes\n",
    "\n",
    "import numpy as np\n",
    "import sys\n",
    "import os\n",
    "\n",
    "from Code.RNN.layers.sigmoid import SigmoidActivation\n",
    "from Code.RNN.functions.metrics import mse, accuracy\n",
    "from Code.RNN.networks.recorrent_neural_network import RecorrentNeuralNetwork\n",
    "from Code.RNN.functions.mse import MeanSquaredError\n",
    "from Code.RNN.layers.rnn import RNN\n",
    "from Code.RNN.layers.dense import DenseLayer\n",
    "from Code.RNN.optimizations.retained_gradient import RetGradient\n",
    "from Code.DNN.optimizations.l2_reg import L2Reg\n",
    "from Code.RNN.functions.bce import BinaryCrossEntropy\n",
    "from Code.RNN.layers.relu import ReLUActivation\n",
    "\n",
    "from Code.utils.dataset import Dataset\n",
    "import Code.utils.store_model as store_model"
   ],
   "outputs": [],
   "execution_count": 1
  },
  {
   "metadata": {
    "ExecuteTime": {
     "end_time": "2025-03-16T18:58:36.154125Z",
     "start_time": "2025-03-16T18:58:36.150549Z"
    }
   },
   "cell_type": "code",
   "source": [
    "# Set random seed to control randomness\n",
    "\n",
    "np.random.seed(42)"
   ],
   "id": "f5a7ebf885f373b7",
   "outputs": [],
   "execution_count": 2
  },
  {
   "metadata": {
    "ExecuteTime": {
     "end_time": "2025-03-16T18:58:44.080527Z",
     "start_time": "2025-03-16T18:58:36.467145Z"
    }
   },
   "cell_type": "code",
   "source": [
    "# Read datasets\n",
    "\n",
    "dataset = Dataset('../../Dataset/DatasetsGerados/dataset_training_input.csv',\n",
    "                      '../../Dataset/DatasetsGerados/dataset_training_output.csv',\n",
    "                      '../../Dataset/DatasetsGerados/dataset_validation_input.csv',\n",
    "                      '../../Dataset/DatasetsGerados/dataset_validation_output.csv',\n",
    "                      '../../Dataset/DatasetsGerados/dataset_test_input.csv',\n",
    "                      '../../Dataset/DatasetsGerados/dataset_test_output.csv')\n",
    "\n",
    "X_train, y_train, X_validation, y_validation, X_test, y_test, ids = dataset.get_dataset_embedding('Text', 'Label', sep='\\t', rem_punctuation=False)"
   ],
   "id": "849def47bf5f1759",
   "outputs": [],
   "execution_count": 3
  },
  {
   "metadata": {
    "ExecuteTime": {
     "end_time": "2025-03-16T18:58:44.158445Z",
     "start_time": "2025-03-16T18:58:44.148909Z"
    }
   },
   "cell_type": "code",
   "source": [
    "# Build network\n",
    "\n",
    "batch_size = 8\n",
    "\n",
    "# network\n",
    "optimizer = RetGradient(learning_rate=0.001, momentum=0.90)\n",
    "loss = BinaryCrossEntropy()\n",
    "\n",
    "regulator = L2Reg(l2_val=0.01)\n",
    "net = RecorrentNeuralNetwork(epochs=10, batch_size=batch_size, optimizer=optimizer, regulator=regulator, verbose=True, loss=loss,\n",
    "                    metric=accuracy, patience=-1, min_delta=0.001)\n",
    "\n",
    "net.add(RNN(10, input_shape=(X_train.shape[1], X_train.shape[2])))\n",
    "net.add(ReLUActivation())\n",
    "\n",
    "net.add(DenseLayer(1))\n",
    "net.add(SigmoidActivation())"
   ],
   "id": "c1d1f93b45192fd2",
   "outputs": [
    {
     "data": {
      "text/plain": [
       "<Code.RNN.networks.recorrent_neural_network.RecorrentNeuralNetwork at 0x2e9b5638590>"
      ]
     },
     "execution_count": 4,
     "metadata": {},
     "output_type": "execute_result"
    }
   ],
   "execution_count": 4
  },
  {
   "metadata": {
    "ExecuteTime": {
     "end_time": "2025-03-16T18:59:54.750370Z",
     "start_time": "2025-03-16T18:58:44.210252Z"
    }
   },
   "cell_type": "code",
   "source": [
    "# Train network\n",
    "\n",
    "net.fit(X_train, y_train, X_val=X_validation, y_val=y_validation)\n",
    "\n",
    "# Plot learning curves\n",
    "net.plot_train_curves()"
   ],
   "id": "b6b84413caf09d28",
   "outputs": [
    {
     "name": "stdout",
     "output_type": "stream",
     "text": [
      "Epoch 1/10 - loss: 5732.5180 - accuracy: 0.8540\n",
      "Epoch 2/10 - loss: 9350.2387 - accuracy: 0.8673\n",
      "Epoch 3/10 - loss: 18636.8414 - accuracy: 0.7767\n"
     ]
    },
    {
     "name": "stderr",
     "output_type": "stream",
     "text": [
      "C:\\Users\\mrjoa\\Desktop\\Uni\\2 Semestre\\SI\\Apof\\Trabalho_1\\AProf_TP1\\Code\\RNN\\layers\\sigmoid.py:9: RuntimeWarning: overflow encountered in exp\n",
      "  return 1 / (1 + np.exp(-input))\n"
     ]
    },
    {
     "name": "stdout",
     "output_type": "stream",
     "text": [
      "Epoch 4/10 - loss: 22665.6592 - accuracy: 0.7533\n",
      "Epoch 5/10 - loss: 17657.8700 - accuracy: 0.8007\n",
      "Epoch 6/10 - loss: 22555.5300 - accuracy: 0.7663\n",
      "Epoch 7/10 - loss: 18084.4018 - accuracy: 0.8117\n",
      "Epoch 8/10 - loss: 13231.1960 - accuracy: 0.8610\n",
      "Epoch 9/10 - loss: 15021.6551 - accuracy: 0.8430\n",
      "Epoch 10/10 - loss: 10623.7952 - accuracy: 0.8903\n"
     ]
    }
   ],
   "execution_count": 5
  },
  {
   "metadata": {
    "ExecuteTime": {
     "end_time": "2025-03-16T18:59:56.083706Z",
     "start_time": "2025-03-16T18:59:54.946340Z"
    }
   },
   "cell_type": "code",
   "source": [
    "# Test network\n",
    "\n",
    "out = net.predict(X_test)\n",
    "out = out.reshape(out.shape[1], 1)\n",
    "\n",
    "if y_test is not None:\n",
    "    print(net.score(y_test, out))"
   ],
   "id": "cbc7574e47bd40de",
   "outputs": [
    {
     "ename": "ValueError",
     "evalue": "cannot reshape array of size 1000 into shape (1,1)",
     "output_type": "error",
     "traceback": [
      "\u001B[31m---------------------------------------------------------------------------\u001B[39m",
      "\u001B[31mValueError\u001B[39m                                Traceback (most recent call last)",
      "\u001B[36mCell\u001B[39m\u001B[36m \u001B[39m\u001B[32mIn[6]\u001B[39m\u001B[32m, line 4\u001B[39m\n\u001B[32m      1\u001B[39m \u001B[38;5;66;03m# Test network\u001B[39;00m\n\u001B[32m      3\u001B[39m out = net.predict(X_test)\n\u001B[32m----> \u001B[39m\u001B[32m4\u001B[39m out = \u001B[43mout\u001B[49m\u001B[43m.\u001B[49m\u001B[43mreshape\u001B[49m\u001B[43m(\u001B[49m\u001B[43mout\u001B[49m\u001B[43m.\u001B[49m\u001B[43mshape\u001B[49m\u001B[43m[\u001B[49m\u001B[32;43m1\u001B[39;49m\u001B[43m]\u001B[49m\u001B[43m,\u001B[49m\u001B[43m \u001B[49m\u001B[32;43m1\u001B[39;49m\u001B[43m)\u001B[49m\n\u001B[32m      6\u001B[39m \u001B[38;5;28;01mif\u001B[39;00m y_test \u001B[38;5;129;01mis\u001B[39;00m \u001B[38;5;129;01mnot\u001B[39;00m \u001B[38;5;28;01mNone\u001B[39;00m:\n\u001B[32m      7\u001B[39m     \u001B[38;5;28mprint\u001B[39m(net.score(y_test, out))\n",
      "\u001B[31mValueError\u001B[39m: cannot reshape array of size 1000 into shape (1,1)"
     ]
    }
   ],
   "execution_count": 6
  },
  {
   "metadata": {
    "ExecuteTime": {
     "end_time": "2025-03-16T18:59:56.100485600Z",
     "start_time": "2025-03-11T14:22:40.490721Z"
    }
   },
   "cell_type": "code",
   "source": [
    "# Store results\n",
    "\n",
    "store_results = './Results/rnn_results.csv'\n",
    "\n",
    "# Ensure the directory exists\n",
    "os.makedirs(os.path.dirname(store_results), exist_ok=True)\n",
    "\n",
    "results = dataset.merge_results(ids, out)\n",
    "results.to_csv(store_results, sep='\\t', index=False)"
   ],
   "id": "daf8f3196b71f493",
   "outputs": [],
   "execution_count": 7
  },
  {
   "metadata": {
    "ExecuteTime": {
     "end_time": "2025-03-16T18:59:56.107055100Z",
     "start_time": "2025-03-11T14:22:40.598837Z"
    }
   },
   "cell_type": "code",
   "source": [
    "# Store network model\n",
    "\n",
    "model_filepath = './Model/rnn'\n",
    "model_key = 'rnn'\n",
    "\n",
    "store_model.store_model(model_filepath, model_key, net)"
   ],
   "id": "381ee2120d4f01fa",
   "outputs": [],
   "execution_count": 8
  },
  {
   "metadata": {
    "ExecuteTime": {
     "end_time": "2025-03-16T18:59:56.109056400Z",
     "start_time": "2025-03-11T14:22:46.524708Z"
    }
   },
   "cell_type": "code",
   "source": [
    "# Retrieve network model\n",
    "\n",
    "model_filepath = './Model/rnn'\n",
    "model_key = 'rnn'\n",
    "\n",
    "net = store_model.retrieve_model(model_filepath, model_key)"
   ],
   "id": "6b36f8376e961242",
   "outputs": [],
   "execution_count": 9
  }
 ],
 "metadata": {
  "kernelspec": {
   "display_name": "Python 3",
   "language": "python",
   "name": "python3"
  },
  "language_info": {
   "codemirror_mode": {
    "name": "ipython",
    "version": 2
   },
   "file_extension": ".py",
   "mimetype": "text/x-python",
   "name": "python",
   "nbconvert_exporter": "python",
   "pygments_lexer": "ipython2",
   "version": "2.7.6"
  }
 },
 "nbformat": 4,
 "nbformat_minor": 5
}
