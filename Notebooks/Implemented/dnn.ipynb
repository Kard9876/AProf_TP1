{
 "cells": [
  {
   "cell_type": "code",
   "id": "initial_id",
   "metadata": {
    "collapsed": true,
    "ExecuteTime": {
     "end_time": "2025-03-11T15:18:11.292782Z",
     "start_time": "2025-03-11T15:18:08.014698Z"
    }
   },
   "source": [
    "# Import necessary libraries and classes\n",
    "\n",
    "import numpy as np\n",
    "import sys\n",
    "import os\n",
    "\n",
    "from Code.DNN.layers.sigmoid import SigmoidActivation\n",
    "from Code.DNN.functions.metrics import mse, accuracy\n",
    "from Code.DNN.networks.neuralnet import NeuralNetwork\n",
    "from Code.DNN.functions.mse import MeanSquaredError\n",
    "from Code.DNN.layers.dense import DenseLayer\n",
    "from Code.DNN.layers.dropout import DropOutLayer\n",
    "from Code.DNN.optimizations.retained_gradient import RetGradient\n",
    "from Code.DNN.optimizations.l1_reg import L1Reg\n",
    "from Code.DNN.optimizations.l2_reg import L2Reg\n",
    "from Code.DNN.functions.bce import BinaryCrossEntropy\n",
    "\n",
    "from Code.utils.dataset import Dataset\n",
    "import Code.utils.store_model as store_model"
   ],
   "outputs": [],
   "execution_count": 1
  },
  {
   "metadata": {
    "ExecuteTime": {
     "end_time": "2025-03-11T15:18:11.429934Z",
     "start_time": "2025-03-11T15:18:11.424112Z"
    }
   },
   "cell_type": "code",
   "source": [
    "# Set random seed to control randomness\n",
    "\n",
    "np.random.seed(42)"
   ],
   "id": "1bc80d566b85e40b",
   "outputs": [],
   "execution_count": 2
  },
  {
   "metadata": {
    "ExecuteTime": {
     "end_time": "2025-03-11T15:18:17.946089Z",
     "start_time": "2025-03-11T15:18:11.873797Z"
    }
   },
   "cell_type": "code",
   "source": [
    "# Load datasets\n",
    "\n",
    "dataset = Dataset('../../Dataset/DatasetsGerados/dataset_training_input.csv',\n",
    "                  '../../Dataset/DatasetsGerados/dataset_training_output.csv',\n",
    "                  '../../Dataset/DatasetsGerados/dataset_validation_input.csv',\n",
    "                  '../../Dataset/DatasetsGerados/dataset_validation_output.csv',\n",
    "                  '../../Dataset/DatasetsGerados/dataset_test_input.csv',\n",
    "                  '../../Dataset/DatasetsGerados/dataset_test_output.csv')\n",
    "\n",
    "# Remover pontuação deu pior resultado\n",
    "X_train, y_train, X_validation, y_validation, X_test, y_test, ids = dataset.get_datasets('Text', 'Label', sep='\\t', rem_punctuation=False)"
   ],
   "id": "5743aaff1c2ea8ea",
   "outputs": [],
   "execution_count": 3
  },
  {
   "metadata": {
    "ExecuteTime": {
     "end_time": "2025-03-11T15:18:18.037724Z",
     "start_time": "2025-03-11T15:18:18.021156Z"
    }
   },
   "cell_type": "code",
   "source": [
    "# Create network topology\n",
    "\n",
    "optimizer = RetGradient(learning_rate=0.01, momentum=0.90)\n",
    "loss = BinaryCrossEntropy()\n",
    "\n",
    "regulator = L2Reg(l2_val=0.001)\n",
    "net = NeuralNetwork(epochs=15, batch_size=16, optimizer=optimizer, regulator=regulator, verbose=True, loss=loss,\n",
    "                    metric=accuracy, patience=2, min_delta=0.001)\n",
    "\n",
    "n_features = X_train.shape[1]\n",
    "net.add(DenseLayer(6, (n_features,)))\n",
    "net.add(SigmoidActivation())\n",
    "net.add(DropOutLayer(3, 0.5, (n_features,)))\n",
    "net.add(DenseLayer(1))\n",
    "net.add(SigmoidActivation())"
   ],
   "id": "f0d3a9916262a61",
   "outputs": [
    {
     "data": {
      "text/plain": [
       "<Code.DNN.networks.neuralnet.NeuralNetwork at 0x132d850b410>"
      ]
     },
     "execution_count": 4,
     "metadata": {},
     "output_type": "execute_result"
    }
   ],
   "execution_count": 4
  },
  {
   "metadata": {
    "ExecuteTime": {
     "end_time": "2025-03-11T15:19:54.777336Z",
     "start_time": "2025-03-11T15:18:18.083709Z"
    }
   },
   "cell_type": "code",
   "source": [
    "# Train network\n",
    "\n",
    "net.fit(X_train, y_train, X_val=X_validation, y_val=y_validation)\n",
    "\n",
    "# Plot learning curves\n",
    "\n",
    "net.plot_train_curves()"
   ],
   "id": "4d9ffc6da755d24d",
   "outputs": [
    {
     "name": "stdout",
     "output_type": "stream",
     "text": [
      "Epoch 1/15 - loss: 2530.0456 - accuracy: 0.7937\n",
      "Epoch 2/15 - loss: 903.6789 - accuracy: 0.9512\n",
      "Epoch 3/15 - loss: 767.8343 - accuracy: 0.9603\n",
      "Epoch 4/15 - loss: 426.5263 - accuracy: 0.9802\n",
      "Epoch 5/15 - loss: 461.2598 - accuracy: 0.9812\n",
      "Epoch 6/15 - loss: 317.3355 - accuracy: 0.9883\n",
      "Epoch 7/15 - loss: 292.9339 - accuracy: 0.9863\n",
      "Epoch 8/15 - loss: 323.1698 - accuracy: 0.9862\n",
      "Epoch 9/15 - loss: 266.2313 - accuracy: 0.9900\n",
      "Epoch 10/15 - loss: 260.1271 - accuracy: 0.9893\n",
      "Epoch 11/15 - loss: 213.5485 - accuracy: 0.9900\n",
      "Epoch 12/15 - loss: 286.6207 - accuracy: 0.9887\n",
      "Epoch 13/15 - loss: 178.4953 - accuracy: 0.9920\n",
      "Epoch 14/15 - loss: 148.5933 - accuracy: 0.9947\n",
      "Epoch 15/15 - loss: 165.9035 - accuracy: 0.9938\n"
     ]
    }
   ],
   "execution_count": 5
  },
  {
   "metadata": {
    "ExecuteTime": {
     "end_time": "2025-03-11T15:19:55.369726Z",
     "start_time": "2025-03-11T15:19:55.092018Z"
    }
   },
   "cell_type": "code",
   "source": [
    "# Predict test dataset\n",
    "\n",
    "out = net.predict(X_test)\n",
    "\n",
    "if y_test is not None:\n",
    "    print(net.score(y_test, out))"
   ],
   "id": "5dd05ea3151fe977",
   "outputs": [
    {
     "name": "stdout",
     "output_type": "stream",
     "text": [
      "0.9955\n"
     ]
    }
   ],
   "execution_count": 6
  },
  {
   "metadata": {
    "ExecuteTime": {
     "end_time": "2025-03-11T15:19:55.417741Z",
     "start_time": "2025-03-11T15:19:55.386745Z"
    }
   },
   "cell_type": "code",
   "source": [
    "# Store results\n",
    "\n",
    "results_filepath = './Results/dnn_results.csv'\n",
    "\n",
    "# Ensure the directory exists\n",
    "os.makedirs(os.path.dirname(results_filepath), exist_ok=True)\n",
    "\n",
    "results = dataset.merge_results(ids, out)\n",
    "results.to_csv(results_filepath, sep='\\t', index=False)"
   ],
   "id": "b30d45eb007dcf1b",
   "outputs": [],
   "execution_count": 7
  },
  {
   "metadata": {
    "ExecuteTime": {
     "end_time": "2025-03-11T15:19:56.800416Z",
     "start_time": "2025-03-11T15:19:55.481053Z"
    }
   },
   "cell_type": "code",
   "source": [
    "# Store network model\n",
    "\n",
    "model_filepath = './Model/dnn'\n",
    "model_key = 'dnn'\n",
    "\n",
    "store_model.store_model(model_filepath, model_key, net)"
   ],
   "id": "2a372f0392e3bc9d",
   "outputs": [],
   "execution_count": 8
  },
  {
   "metadata": {
    "ExecuteTime": {
     "end_time": "2025-03-11T15:19:57.287467Z",
     "start_time": "2025-03-11T15:19:56.859653Z"
    }
   },
   "cell_type": "code",
   "source": [
    "# Retrieve network model\n",
    "\n",
    "model_filepath = './Model/dnn'\n",
    "model_key = 'dnn'\n",
    "\n",
    "net = store_model.retrieve_model(model_filepath, model_key)"
   ],
   "id": "ff508dc13c92fe7",
   "outputs": [],
   "execution_count": 9
  }
 ],
 "metadata": {
  "kernelspec": {
   "display_name": "Python 3",
   "language": "python",
   "name": "python3"
  },
  "language_info": {
   "codemirror_mode": {
    "name": "ipython",
    "version": 2
   },
   "file_extension": ".py",
   "mimetype": "text/x-python",
   "name": "python",
   "nbconvert_exporter": "python",
   "pygments_lexer": "ipython2",
   "version": "2.7.6"
  }
 },
 "nbformat": 4,
 "nbformat_minor": 5
}
