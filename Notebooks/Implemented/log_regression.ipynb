{
 "cells": [
  {
   "cell_type": "code",
   "id": "initial_id",
   "metadata": {
    "collapsed": true,
    "ExecuteTime": {
     "end_time": "2025-03-11T14:14:08.908137Z",
     "start_time": "2025-03-11T14:14:06.483804Z"
    }
   },
   "source": [
    "# Import libraries and needed classes\n",
    "\n",
    "import sys\n",
    "import os\n",
    "\n",
    "import numpy as np\n",
    "import pandas as pd\n",
    "from sklearn.feature_extraction.text import CountVectorizer\n",
    "\n",
    "from Code.LogisticRegression.logisticReg.logisticReg import LogisticRegression\n",
    "from Code.utils.dataset import Dataset\n",
    "import Code.utils.store_model as store_model"
   ],
   "outputs": [],
   "execution_count": 1
  },
  {
   "metadata": {
    "ExecuteTime": {
     "end_time": "2025-03-11T14:14:08.922574Z",
     "start_time": "2025-03-11T14:14:08.916585Z"
    }
   },
   "cell_type": "code",
   "source": [
    "# Set random seed to control randomness\n",
    "\n",
    "np.random.seed(42)"
   ],
   "id": "bc373929f5b2d15",
   "outputs": [],
   "execution_count": 2
  },
  {
   "metadata": {
    "ExecuteTime": {
     "end_time": "2025-03-11T14:14:15.454169Z",
     "start_time": "2025-03-11T14:14:09.325011Z"
    }
   },
   "cell_type": "code",
   "source": [
    "# Read datasets\n",
    "\n",
    "dataset = Dataset('../../Dataset/DatasetsGerados/dataset_training_input.csv',\n",
    "                      '../../Dataset/DatasetsGerados/dataset_training_output.csv',\n",
    "                      '../../Dataset/DatasetsGerados/dataset_validation_input.csv',\n",
    "                      '../../Dataset/DatasetsGerados/dataset_validation_output.csv',\n",
    "                      '../../Dataset/DatasetsGerados/dataset_test_input.csv',\n",
    "                      '../../Dataset/DatasetsGerados/dataset_test_output.csv')\n",
    "\n",
    "X_train, y_train, X_validation, y_validation, X_test, y_test, ids = dataset.get_datasets('Text', 'Label', sep='\\t', rem_punctuation=False)"
   ],
   "id": "eae7bbb53054f1f6",
   "outputs": [],
   "execution_count": 3
  },
  {
   "metadata": {
    "ExecuteTime": {
     "end_time": "2025-03-11T14:14:15.616203Z",
     "start_time": "2025-03-11T14:14:15.601039Z"
    }
   },
   "cell_type": "code",
   "source": [
    "# Create model\n",
    "\n",
    "n_features = X_train.shape[1]\n",
    "\n",
    "model = LogisticRegression(n_features)"
   ],
   "id": "b1c19bb2b2f4af77",
   "outputs": [],
   "execution_count": 4
  },
  {
   "metadata": {
    "ExecuteTime": {
     "end_time": "2025-03-11T14:15:19.945901Z",
     "start_time": "2025-03-11T14:14:15.650039Z"
    }
   },
   "cell_type": "code",
   "source": [
    "# Train model\n",
    "\n",
    "model.gradient_descent(X_train, y_train, alpha=0.01, iters=50)"
   ],
   "id": "ddecf2604a10e447",
   "outputs": [
    {
     "name": "stdout",
     "output_type": "stream",
     "text": [
      "0.6931471805599454\n",
      "0.3428615279865149\n",
      "0.2620090674546095\n",
      "0.22083443675010897\n",
      "0.19500488795252569\n"
     ]
    }
   ],
   "execution_count": 5
  },
  {
   "metadata": {
    "ExecuteTime": {
     "end_time": "2025-03-11T14:16:29.958252Z",
     "start_time": "2025-03-11T14:16:29.747283Z"
    }
   },
   "cell_type": "code",
   "source": [
    "# Calculate model cost if y_test is available\n",
    "\n",
    "if y_test is not None:\n",
    "    print(\"Final cost:\", model.cost_function(X_test, y_test))"
   ],
   "id": "674c293e653f6f29",
   "outputs": [
    {
     "name": "stdout",
     "output_type": "stream",
     "text": [
      "Final cost: 0.18036299181483534\n"
     ]
    }
   ],
   "execution_count": 16
  },
  {
   "metadata": {
    "ExecuteTime": {
     "end_time": "2025-03-11T14:15:20.325596Z",
     "start_time": "2025-03-11T14:15:20.178117Z"
    }
   },
   "cell_type": "code",
   "source": [
    "# Test model\n",
    "\n",
    "out = model.predict_many(X_test)\n",
    "out = out.reshape(out.shape[0], 1)"
   ],
   "id": "3353161857484ad7",
   "outputs": [],
   "execution_count": 7
  },
  {
   "metadata": {
    "ExecuteTime": {
     "end_time": "2025-03-11T14:15:20.378967Z",
     "start_time": "2025-03-11T14:15:20.345692Z"
    }
   },
   "cell_type": "code",
   "source": [
    "# Store results\n",
    "\n",
    "store_results = './Results/log_regression_results.csv'\n",
    "\n",
    "# Ensure the directory exists\n",
    "os.makedirs(os.path.dirname(store_results), exist_ok=True)\n",
    "\n",
    "results = dataset.merge_results(ids, out)\n",
    "results.to_csv(store_results, sep='\\t', index=False)"
   ],
   "id": "f53b41b62ef8484e",
   "outputs": [],
   "execution_count": 8
  },
  {
   "metadata": {
    "ExecuteTime": {
     "end_time": "2025-03-11T14:15:20.446892Z",
     "start_time": "2025-03-11T14:15:20.404980Z"
    }
   },
   "cell_type": "code",
   "source": [
    "# Store model\n",
    "\n",
    "model_filepath = './Model/log_regression'\n",
    "model_key = 'log_regression'\n",
    "\n",
    "store_model.store_model(model_filepath, model_key, model)"
   ],
   "id": "6e36b388a4797b7b",
   "outputs": [],
   "execution_count": 9
  },
  {
   "metadata": {
    "ExecuteTime": {
     "end_time": "2025-03-11T14:15:20.509383Z",
     "start_time": "2025-03-11T14:15:20.468393Z"
    }
   },
   "cell_type": "code",
   "source": [
    "# Retrieve model\n",
    "\n",
    "model_filepath = './Model/log_regression'\n",
    "model_key = 'log_regression'\n",
    "\n",
    "model = store_model.retrieve_model(model_filepath, model_key)"
   ],
   "id": "771c6558d73b797c",
   "outputs": [],
   "execution_count": 10
  }
 ],
 "metadata": {
  "kernelspec": {
   "display_name": "Python 3",
   "language": "python",
   "name": "python3"
  },
  "language_info": {
   "codemirror_mode": {
    "name": "ipython",
    "version": 2
   },
   "file_extension": ".py",
   "mimetype": "text/x-python",
   "name": "python",
   "nbconvert_exporter": "python",
   "pygments_lexer": "ipython2",
   "version": "2.7.6"
  }
 },
 "nbformat": 4,
 "nbformat_minor": 5
}
