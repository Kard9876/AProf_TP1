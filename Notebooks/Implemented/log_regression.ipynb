{
 "cells": [
  {
   "metadata": {},
   "cell_type": "code",
   "outputs": [],
   "execution_count": null,
   "source": [
    "# Import libraries and needed classes\n",
    "\n",
    "import sys\n",
    "import os\n",
    "\n",
    "import numpy as np\n",
    "import pandas as pd\n",
    "from sklearn.feature_extraction.text import CountVectorizer\n",
    "from sklearn.metrics import accuracy_score, f1_score\n",
    "\n",
    "from Code.LogisticRegression.logisticReg.logisticReg import LogisticRegression\n",
    "from Code.utils.dataset import Dataset\n",
    "import Code.utils.store_model as store_model\n",
    "import numpy as np\n"
   ],
   "id": "dafdc378ee8d64b5"
  },
  {
   "metadata": {},
   "cell_type": "code",
   "outputs": [],
   "execution_count": null,
   "source": [
    "# Set random seed to control randomness\n",
    "\n",
    "np.random.seed(42)"
   ],
   "id": "9a978ae334d48106"
  },
  {
   "metadata": {},
   "cell_type": "code",
   "outputs": [],
   "execution_count": null,
   "source": [
    "# Read datasets\n",
    "\n",
    "dataset = Dataset('../../Dataset/DatasetsGerados/dataset_training_input.csv',\n",
    "                      '../../Dataset/DatasetsGerados/dataset_training_output.csv',\n",
    "                      '../../Dataset/DatasetsGerados/dataset_validation_input.csv',\n",
    "                      '../../Dataset/DatasetsGerados/dataset_validation_output.csv',\n",
    "                      '../../Dataset/dataset1_inputs.csv',\n",
    "                      '../../Dataset/dataset1_outputs.csv')\n",
    "\n",
    "X_train, y_train, X_validation, y_validation, X_test, y_test, ids = dataset.get_datasets('Text', 'Label', sep='\\t', rem_punctuation=False, rem_first_phrase=True)"
   ],
   "id": "9ef440c79b27139e"
  },
  {
   "metadata": {},
   "cell_type": "code",
   "outputs": [],
   "execution_count": null,
   "source": [
    "\n",
    "m_train = X_train.shape[0]\n",
    "perm_train = np.random.permutation(m_train)\n",
    "X_train_shuffled = X_train[perm_train]\n",
    "y_train_shuffled = y_train[perm_train]"
   ],
   "id": "5c04277b6c74ef6a"
  },
  {
   "metadata": {},
   "cell_type": "code",
   "outputs": [],
   "execution_count": null,
   "source": [
    "# Create model\n",
    "\n",
    "n_features = X_train.shape[1]\n",
    "\n",
    "model = LogisticRegression(n_features, reg_type=\"l2\", reg_lambda=0.1)"
   ],
   "id": "9ad22c200f550ac6"
  },
  {
   "metadata": {},
   "cell_type": "code",
   "outputs": [],
   "execution_count": null,
   "source": [
    "# Train model\n",
    "model.gradient_descent(X_train_shuffled, y_train_shuffled, X_validation, y_validation, alpha=0.1, iters=10)"
   ],
   "id": "8b12664720ec0b0"
  },
  {
   "metadata": {},
   "cell_type": "code",
   "outputs": [],
   "execution_count": null,
   "source": [
    "# Calculate model cost if y_test is available\n",
    "\n",
    "if y_test is not None:\n",
    "    print(\"Final cost:\", model.cost_function(X_test, y_test))\n",
    "    print(\"Accuracy:\", accuracy_score(y_test, model.predict_many(X_test)))\n",
    "    print(\"F1 Score:\", f1_score(y_test, model.predict_many(X_test), average='macro'))"
   ],
   "id": "2c6c991edcea869b"
  },
  {
   "metadata": {},
   "cell_type": "code",
   "outputs": [],
   "execution_count": null,
   "source": [
    "# Plot model\n",
    "\n",
    "model.plot_train_curves()"
   ],
   "id": "2450f7f0e0e46ec2"
  },
  {
   "metadata": {},
   "cell_type": "code",
   "outputs": [],
   "execution_count": null,
   "source": [
    "# Test model\n",
    "\n",
    "out = model.predict_many(X_test)\n",
    "out = out.reshape(out.shape[0], 1)"
   ],
   "id": "95c7f4923f73ce4e"
  },
  {
   "metadata": {},
   "cell_type": "code",
   "outputs": [],
   "execution_count": null,
   "source": [
    "# Store results\n",
    "store_results = './Results/log_regression_results.csv'\n",
    "\n",
    "# Ensure the directory exists\n",
    "os.makedirs(os.path.dirname(store_results), exist_ok=True)\n",
    "\n",
    "results = dataset.merge_results(ids, out)\n",
    "results.to_csv(store_results, sep='\\t', index=False)"
   ],
   "id": "d73383eb9ddc4c81"
  },
  {
   "metadata": {},
   "cell_type": "code",
   "outputs": [],
   "execution_count": null,
   "source": [
    "# Store model\n",
    "model_filepath = './Model/log_regression'\n",
    "model_key = 'log_regression'\n",
    "\n",
    "store_model.store_model(model_filepath, model_key, model)"
   ],
   "id": "554166f3a31e6365"
  },
  {
   "metadata": {},
   "cell_type": "code",
   "outputs": [],
   "execution_count": null,
   "source": [
    "# Retrieve model\n",
    "model_filepath = './Model/log_regression'\n",
    "model_key = 'log_regression'\n",
    "\n",
    "model = store_model.retrieve_model(model_filepath, model_key)"
   ],
   "id": "f7c00268cf5b8f43"
  }
 ],
 "metadata": {
  "kernelspec": {
   "display_name": "Python 3",
   "language": "python",
   "name": "python3"
  },
  "language_info": {
   "codemirror_mode": {
    "name": "ipython",
    "version": 2
   },
   "file_extension": ".py",
   "mimetype": "text/x-python",
   "name": "python",
   "nbconvert_exporter": "python",
   "pygments_lexer": "ipython2",
   "version": "2.7.6"
  }
 },
 "nbformat": 4,
 "nbformat_minor": 5
}
