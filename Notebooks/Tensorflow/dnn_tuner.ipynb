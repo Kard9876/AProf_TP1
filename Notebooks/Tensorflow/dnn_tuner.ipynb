{
 "cells": [
  {
   "cell_type": "code",
   "id": "initial_id",
   "metadata": {
    "collapsed": true,
    "ExecuteTime": {
     "end_time": "2025-03-18T18:56:19.357294Z",
     "start_time": "2025-03-18T18:56:19.348768Z"
    }
   },
   "source": [
    "import os\n",
    "\n",
    "import numpy as np\n",
    "import pandas as pd\n",
    "import matplotlib.pyplot as plt\n",
    "import keras_tuner as kt\n",
    "\n",
    "from tensorflow.keras import models, layers, Input, optimizers\n",
    "from tensorflow.keras.models import Sequential\n",
    "from tensorflow.keras.layers import Dense, Activation, Dropout\n",
    "\n",
    "from sklearn.feature_extraction.text import CountVectorizer\n",
    "\n",
    "from Code.utils.dataset import Dataset"
   ],
   "outputs": [],
   "execution_count": 13
  },
  {
   "metadata": {
    "ExecuteTime": {
     "end_time": "2025-03-18T18:39:23.609264Z",
     "start_time": "2025-03-18T18:39:23.594271Z"
    }
   },
   "cell_type": "code",
   "source": [
    "def build_model(hp):\n",
    "    min_hidden = 16\n",
    "    max_hidden = 100\n",
    "\n",
    "    n_features = X_train.shape[1]\n",
    "\n",
    "    model = models.Sequential()\n",
    "    model.add(Input((n_features,)))\n",
    "    hp1_units = hp.Int('hidden1_units', min_value=min_hidden, max_value=max_hidden, step=8)\n",
    "    model.add(layers.Dense(hp1_units, activation='relu'))\n",
    "    hp2_units = hp.Int('hidden2_units', min_value=min_hidden, max_value=max_hidden, step=8)\n",
    "    model.add(layers.Dense(hp2_units, activation='relu'))\n",
    "    model.add(layers.Dense(1, activation='sigmoid'))\n",
    "\n",
    "    # Tune the learning rate\n",
    "    model.compile(optimizer='rmsprop', loss='binary_crossentropy', metrics=['acc'])\n",
    "\n",
    "    return model"
   ],
   "id": "dd26ea6eca24ee1e",
   "outputs": [],
   "execution_count": 2
  },
  {
   "metadata": {
    "ExecuteTime": {
     "end_time": "2025-03-18T18:39:25.369049Z",
     "start_time": "2025-03-18T18:39:23.623796Z"
    }
   },
   "cell_type": "code",
   "source": [
    "# Load datasets\n",
    "\n",
    "dataset = Dataset('../../Dataset/DatasetsGerados/dataset_training_input.csv',\n",
    "                  '../../Dataset/DatasetsGerados/dataset_training_output.csv',\n",
    "                  '../../Dataset/DatasetsGerados/dataset_validation_input.csv',\n",
    "                  '../../Dataset/DatasetsGerados/dataset_validation_output.csv',\n",
    "                  '../../Dataset/DatasetsGerados/dataset_test_input.csv',\n",
    "                  '../../Dataset/DatasetsGerados/dataset_test_output.csv')\n",
    "\n",
    "# Remover pontuação deu pior resultado\n",
    "X_train, y_train, X_validation, y_validation, X_test, y_test, ids = dataset.get_datasets('Text', 'Label', sep='\\t', rem_punctuation=False)"
   ],
   "id": "301469d04701682f",
   "outputs": [],
   "execution_count": 3
  },
  {
   "metadata": {},
   "cell_type": "code",
   "source": [
    "# Start tuner\n",
    "\n",
    "tuner = kt.Hyperband(\n",
    "    build_model,\n",
    "    objective='acc',\n",
    "    max_epochs=20,\n",
    "    factor=3,\n",
    "    directory='./KerasTuner',  # Directory to store results\n",
    "    project_name='DNN_Tuning'\n",
    ")\n",
    "\n",
    "tuner.search(X_train, y_train, epochs=10, validation_data=(X_validation, y_validation))"
   ],
   "id": "8548eab2c73c1535",
   "execution_count": 5,
   "outputs": [
    {
     "name": "stdout",
     "output_type": "stream",
     "text": [
      "Trial 26 Complete [00h 00m 33s]\n",
      "acc: 1.0\n",
      "\n",
      "Best acc So Far: 1.0\n",
      "Total elapsed time: 00h 05m 38s\n"
     ]
    }
   ]
  },
  {
   "metadata": {
    "ExecuteTime": {
     "end_time": "2025-03-18T18:55:20.795347Z",
     "start_time": "2025-03-18T18:55:08.832971Z"
    }
   },
   "cell_type": "code",
   "source": [
    "best_hps = tuner.get_best_hyperparameters(num_trials=1)[0]\n",
    "\n",
    "n_features = X_train.shape[1]\n",
    "\n",
    "hidden1_units = best_hps['hidden1_units']\n",
    "hidden2_units = best_hps['hidden2_units']\n",
    "\n",
    "print(f\"Hidden Layer 1 has {hidden1_units} units\")\n",
    "print(f\"Hidden Layer 2 has {hidden2_units} units\")\n",
    "\n",
    "model = models.Sequential()\n",
    "model.add(Input((n_features,)))\n",
    "model.add(layers.Dense(hidden1_units, activation='relu'))\n",
    "model.add(layers.Dense(hidden2_units, activation='relu'))\n",
    "model.add(layers.Dense(1, activation='sigmoid'))\n",
    "\n",
    "# Tune the learning rate\n",
    "model.compile(optimizer='rmsprop', loss='binary_crossentropy', metrics=['acc'])\n",
    "\n",
    "history = model.fit(X_train, y_train, epochs=20, batch_size=512, validation_data=(X_validation, y_validation))\n",
    "\n",
    "# Plot accuracy curves\n",
    "\n",
    "history_dict = history.history\n",
    "acc_values = history_dict['acc']\n",
    "val_acc_values = history_dict['val_acc']\n",
    "epochs = range(1, len(acc_values) + 1)\n",
    "\n",
    "plt.plot(epochs, acc_values, 'bo', label='Training acc')\n",
    "plt.plot(epochs, val_acc_values, 'b', label='Validation acc')\n",
    "plt.title('Training and validation accuracy')\n",
    "plt.xlabel('Epochs')\n",
    "plt.ylabel('Acc')\n",
    "plt.legend()\n",
    "plt.show()\n",
    "\n",
    "# Plot loss curves\n",
    "\n",
    "loss_values = history_dict['loss']\n",
    "val_loss_values = history_dict['val_loss']\n",
    "\n",
    "plt.plot(epochs, loss_values, 'bo', label='Training loss')\n",
    "plt.plot(epochs, val_loss_values, 'b', label='Validation loss')\n",
    "plt.title('Training and validation loss')\n",
    "plt.xlabel('Epochs')\n",
    "plt.ylabel('Loss')\n",
    "plt.legend()\n",
    "plt.show()\n",
    "\n",
    "# Evaluate Model\n",
    "results = model.evaluate(X_test, y_test, verbose = 0)\n",
    "results"
   ],
   "id": "74476120c1ffd78e",
   "outputs": [
    {
     "name": "stdout",
     "output_type": "stream",
     "text": [
      "Epoch 1/20\n",
      "\u001B[1m6/6\u001B[0m \u001B[32m━━━━━━━━━━━━━━━━━━━━\u001B[0m\u001B[37m\u001B[0m \u001B[1m2s\u001B[0m 119ms/step - acc: 0.8040 - loss: 0.4905 - val_acc: 0.9990 - val_loss: 0.0811\n",
      "Epoch 2/20\n",
      "\u001B[1m6/6\u001B[0m \u001B[32m━━━━━━━━━━━━━━━━━━━━\u001B[0m\u001B[37m\u001B[0m \u001B[1m0s\u001B[0m 67ms/step - acc: 1.0000 - loss: 0.0638 - val_acc: 0.9990 - val_loss: 0.0287\n",
      "Epoch 3/20\n",
      "\u001B[1m6/6\u001B[0m \u001B[32m━━━━━━━━━━━━━━━━━━━━\u001B[0m\u001B[37m\u001B[0m \u001B[1m0s\u001B[0m 66ms/step - acc: 1.0000 - loss: 0.0203 - val_acc: 0.9990 - val_loss: 0.0164\n",
      "Epoch 4/20\n",
      "\u001B[1m6/6\u001B[0m \u001B[32m━━━━━━━━━━━━━━━━━━━━\u001B[0m\u001B[37m\u001B[0m \u001B[1m0s\u001B[0m 64ms/step - acc: 1.0000 - loss: 0.0104 - val_acc: 0.9990 - val_loss: 0.0119\n",
      "Epoch 5/20\n",
      "\u001B[1m6/6\u001B[0m \u001B[32m━━━━━━━━━━━━━━━━━━━━\u001B[0m\u001B[37m\u001B[0m \u001B[1m0s\u001B[0m 61ms/step - acc: 1.0000 - loss: 0.0060 - val_acc: 0.9990 - val_loss: 0.0082\n",
      "Epoch 6/20\n",
      "\u001B[1m6/6\u001B[0m \u001B[32m━━━━━━━━━━━━━━━━━━━━\u001B[0m\u001B[37m\u001B[0m \u001B[1m0s\u001B[0m 68ms/step - acc: 1.0000 - loss: 0.0039 - val_acc: 0.9990 - val_loss: 0.0072\n",
      "Epoch 7/20\n",
      "\u001B[1m6/6\u001B[0m \u001B[32m━━━━━━━━━━━━━━━━━━━━\u001B[0m\u001B[37m\u001B[0m \u001B[1m0s\u001B[0m 66ms/step - acc: 1.0000 - loss: 0.0026 - val_acc: 0.9990 - val_loss: 0.0053\n",
      "Epoch 8/20\n",
      "\u001B[1m6/6\u001B[0m \u001B[32m━━━━━━━━━━━━━━━━━━━━\u001B[0m\u001B[37m\u001B[0m \u001B[1m0s\u001B[0m 61ms/step - acc: 1.0000 - loss: 0.0019 - val_acc: 0.9990 - val_loss: 0.0047\n",
      "Epoch 9/20\n",
      "\u001B[1m6/6\u001B[0m \u001B[32m━━━━━━━━━━━━━━━━━━━━\u001B[0m\u001B[37m\u001B[0m \u001B[1m0s\u001B[0m 60ms/step - acc: 1.0000 - loss: 0.0014 - val_acc: 0.9990 - val_loss: 0.0040\n",
      "Epoch 10/20\n",
      "\u001B[1m6/6\u001B[0m \u001B[32m━━━━━━━━━━━━━━━━━━━━\u001B[0m\u001B[37m\u001B[0m \u001B[1m0s\u001B[0m 63ms/step - acc: 1.0000 - loss: 0.0010 - val_acc: 0.9990 - val_loss: 0.0036\n",
      "Epoch 11/20\n",
      "\u001B[1m6/6\u001B[0m \u001B[32m━━━━━━━━━━━━━━━━━━━━\u001B[0m\u001B[37m\u001B[0m \u001B[1m0s\u001B[0m 63ms/step - acc: 1.0000 - loss: 7.6000e-04 - val_acc: 0.9990 - val_loss: 0.0034\n",
      "Epoch 12/20\n",
      "\u001B[1m6/6\u001B[0m \u001B[32m━━━━━━━━━━━━━━━━━━━━\u001B[0m\u001B[37m\u001B[0m \u001B[1m0s\u001B[0m 60ms/step - acc: 1.0000 - loss: 6.1549e-04 - val_acc: 0.9990 - val_loss: 0.0031\n",
      "Epoch 13/20\n",
      "\u001B[1m6/6\u001B[0m \u001B[32m━━━━━━━━━━━━━━━━━━━━\u001B[0m\u001B[37m\u001B[0m \u001B[1m0s\u001B[0m 58ms/step - acc: 1.0000 - loss: 4.8197e-04 - val_acc: 0.9990 - val_loss: 0.0030\n",
      "Epoch 14/20\n",
      "\u001B[1m6/6\u001B[0m \u001B[32m━━━━━━━━━━━━━━━━━━━━\u001B[0m\u001B[37m\u001B[0m \u001B[1m0s\u001B[0m 65ms/step - acc: 1.0000 - loss: 4.0833e-04 - val_acc: 0.9990 - val_loss: 0.0029\n",
      "Epoch 15/20\n",
      "\u001B[1m6/6\u001B[0m \u001B[32m━━━━━━━━━━━━━━━━━━━━\u001B[0m\u001B[37m\u001B[0m \u001B[1m0s\u001B[0m 64ms/step - acc: 1.0000 - loss: 3.2968e-04 - val_acc: 0.9990 - val_loss: 0.0025\n",
      "Epoch 16/20\n",
      "\u001B[1m6/6\u001B[0m \u001B[32m━━━━━━━━━━━━━━━━━━━━\u001B[0m\u001B[37m\u001B[0m \u001B[1m0s\u001B[0m 63ms/step - acc: 1.0000 - loss: 2.9065e-04 - val_acc: 0.9990 - val_loss: 0.0025\n",
      "Epoch 17/20\n",
      "\u001B[1m6/6\u001B[0m \u001B[32m━━━━━━━━━━━━━━━━━━━━\u001B[0m\u001B[37m\u001B[0m \u001B[1m0s\u001B[0m 64ms/step - acc: 1.0000 - loss: 2.4940e-04 - val_acc: 0.9990 - val_loss: 0.0024\n",
      "Epoch 18/20\n",
      "\u001B[1m6/6\u001B[0m \u001B[32m━━━━━━━━━━━━━━━━━━━━\u001B[0m\u001B[37m\u001B[0m \u001B[1m0s\u001B[0m 66ms/step - acc: 1.0000 - loss: 2.1013e-04 - val_acc: 0.9990 - val_loss: 0.0021\n",
      "Epoch 19/20\n",
      "\u001B[1m6/6\u001B[0m \u001B[32m━━━━━━━━━━━━━━━━━━━━\u001B[0m\u001B[37m\u001B[0m \u001B[1m0s\u001B[0m 64ms/step - acc: 1.0000 - loss: 1.8602e-04 - val_acc: 0.9990 - val_loss: 0.0023\n",
      "Epoch 20/20\n",
      "\u001B[1m6/6\u001B[0m \u001B[32m━━━━━━━━━━━━━━━━━━━━\u001B[0m\u001B[37m\u001B[0m \u001B[1m0s\u001B[0m 69ms/step - acc: 1.0000 - loss: 1.5853e-04 - val_acc: 0.9990 - val_loss: 0.0022\n"
     ]
    },
    {
     "data": {
      "text/plain": [
       "<Figure size 640x480 with 1 Axes>"
      ],
      "image/png": "[encoded data removed]"
     },
     "metadata": {},
     "output_type": "display_data"
    },
    {
     "data": {
      "text/plain": [
       "<Figure size 640x480 with 1 Axes>"
      ],
      "image/png": "[encoded data removed]"
     },
     "metadata": {},
     "output_type": "display_data"
    },
    {
     "data": {
      "text/plain": [
       "[0.0025586176197975874, 1.0]"
      ]
     },
     "execution_count": 12,
     "metadata": {},
     "output_type": "execute_result"
    }
   ],
   "execution_count": 12
  },
  {
   "metadata": {
    "ExecuteTime": {
     "end_time": "2025-03-18T18:58:54.952593Z",
     "start_time": "2025-03-18T18:58:54.632648Z"
    }
   },
   "cell_type": "code",
   "source": [
    "''# Predict test dataset\n",
    "\n",
    "out = model.predict(X_test)\n",
    "\n",
    "if y_test is not None:\n",
    "    print(model.evaluate(X_test, y_test))"
   ],
   "id": "8306d0fcaadc551a",
   "outputs": [
    {
     "name": "stdout",
     "output_type": "stream",
     "text": [
      "\u001B[1m1/1\u001B[0m \u001B[32m━━━━━━━━━━━━━━━━━━━━\u001B[0m\u001B[37m\u001B[0m \u001B[1m0s\u001B[0m 68ms/step\n",
      "\u001B[1m1/1\u001B[0m \u001B[32m━━━━━━━━━━━━━━━━━━━━\u001B[0m\u001B[37m\u001B[0m \u001B[1m0s\u001B[0m 70ms/step - acc: 0.8000 - loss: 0.7471\n",
      "[0.7470712065696716, 0.800000011920929]\n"
     ]
    }
   ],
   "execution_count": 19
  },
  {
   "metadata": {
    "ExecuteTime": {
     "end_time": "2025-03-18T19:01:38.910080Z",
     "start_time": "2025-03-18T19:01:38.893608Z"
    }
   },
   "cell_type": "code",
   "source": [
    "# Store results\n",
    "\n",
    "results_filepath = './Results/dnn_tuner_results.csv'\n",
    "\n",
    "# Ensure the directory exists\n",
    "os.makedirs(os.path.dirname(results_filepath), exist_ok=True)\n",
    "\n",
    "results = dataset.merge_results(ids, out)\n",
    "results.to_csv(results_filepath, sep='\\t', index=False)"
   ],
   "id": "d8cff868cc782e42",
   "outputs": [],
   "execution_count": 21
  },
  {
   "metadata": {
    "ExecuteTime": {
     "end_time": "2025-03-18T18:58:52.859126Z",
     "start_time": "2025-03-18T18:58:52.808950Z"
    }
   },
   "cell_type": "code",
   "source": [
    "dataset.set_dataset_test('../../Dataset/dataset1_inputs.csv', '../../Dataset/dataset1_outputs.csv')\n",
    "\n",
    "X_test, y_test, ids = dataset.get_test_dataset('Text', 'Label', sep='\\t', rem_punctuation=False)"
   ],
   "id": "f6dbff8e3d2e0cd7",
   "outputs": [],
   "execution_count": 18
  }
 ],
 "metadata": {
  "kernelspec": {
   "display_name": "Python 3",
   "language": "python",
   "name": "python3"
  },
  "language_info": {
   "codemirror_mode": {
    "name": "ipython",
    "version": 2
   },
   "file_extension": ".py",
   "mimetype": "text/x-python",
   "name": "python",
   "nbconvert_exporter": "python",
   "pygments_lexer": "ipython2",
   "version": "2.7.6"
  }
 },
 "nbformat": 4,
 "nbformat_minor": 5
}
