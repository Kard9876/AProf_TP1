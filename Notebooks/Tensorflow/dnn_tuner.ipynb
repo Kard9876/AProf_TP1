{
 "cells": [
  {
   "metadata": {
    "collapsed": true,
    "ExecuteTime": {
     "end_time": "2025-03-22T17:55:26.188499Z",
     "start_time": "2025-03-22T17:55:15.008682Z"
    }
   },
   "cell_type": "code",
   "source": [
    "import os\n",
    "import random\n",
    "\n",
    "import numpy as np\n",
    "import pandas as pd\n",
    "import matplotlib.pyplot as plt\n",
    "import keras_tuner as kt\n",
    "from keras.src.utils.module_utils import tensorflow\n",
    "\n",
    "from tensorflow.keras import models, layers, Input, optimizers\n",
    "from tensorflow.keras.models import Sequential\n",
    "from tensorflow.keras.layers import Dense, Activation, Dropout\n",
    "\n",
    "from sklearn.feature_extraction.text import CountVectorizer\n",
    "\n",
    "from Code.utils.dataset import Dataset"
   ],
   "id": "initial_id",
   "outputs": [
    {
     "name": "stderr",
     "output_type": "stream",
     "text": [
      "[nltk_data] Downloading package punkt to C:\\Users\\Guilherme\n",
      "[nltk_data]     Barbosa\\AppData\\Roaming\\nltk_data...\n",
      "[nltk_data]   Package punkt is already up-to-date!\n"
     ]
    }
   ],
   "execution_count": 1
  },
  {
   "metadata": {
    "ExecuteTime": {
     "end_time": "2025-03-22T17:55:26.537570Z",
     "start_time": "2025-03-22T17:55:26.530941Z"
    }
   },
   "cell_type": "code",
   "source": [
    "np.random.seed(42)\n",
    "tensorflow.random.set_seed(42)\n",
    "random.seed(42)"
   ],
   "id": "598a2510197fca37",
   "outputs": [],
   "execution_count": 2
  },
  {
   "metadata": {},
   "cell_type": "code",
   "source": [
    "def build_model(hp):\n",
    "    min_hidden = 20\n",
    "    max_hidden = 40\n",
    "\n",
    "    n_features = X_train.shape[1]\n",
    "\n",
    "    model = models.Sequential()\n",
    "    model.add(Input((n_features,)))\n",
    "    # hp1_units = hp.Int('hidden1_units', min_value=min_hidden, max_value=max_hidden, step=1)\n",
    "    model.add(layers.Dense(38, activation='relu'))\n",
    "\n",
    "    # hp_dropout1 = hp.Float('dropout1', min_value=0.2, max_value=0.8, step=0.1)\n",
    "    # model.add(layers.Dropout(rate=hp_dropout1))\n",
    "\n",
    "    # hp2_units = hp.Int('hidden2_units', min_value=min_hidden, max_value=max_hidden, step=1)\n",
    "    model.add(layers.Dense(27, activation='sigmoid'))\n",
    "\n",
    "    # hp_dropout2 = hp.Float('dropout2', min_value=0.2, max_value=0.8, step=0.1)\n",
    "    # model.add(layers.Dropout(rate=hp_dropout2))\n",
    "\n",
    "    # hp3_units = hp.Int('hidden3_units', min_value=min_hidden, max_value=max_hidden, step=1)\n",
    "    model.add(layers.Dense(31, activation='relu'))\n",
    "    # hp4_units = hp.Int('hidden4_units', min_value=min_hidden, max_value=max_hidden, step=1)\n",
    "    model.add(layers.Dense(21, activation='sigmoid'))\n",
    "    model.add(layers.Dense(1, activation='sigmoid'))\n",
    "\n",
    "    # Tune the learning rate\n",
    "    learning_rate_options = [0.0001, 0.0005, 0.001, 0.005, 0.01, 0.1, 0.15, 0.2]\n",
    "    momentum_options = [0.8, 0.85, 0.9, 0.95]\n",
    "    hp_learning_rate = hp.Choice('learning_rate', values=learning_rate_options)\n",
    "    #hp_momentum = hp.Choice('momentum', values=momentum_options)\n",
    "\n",
    "    optimizer = optimizers.Adamax(learning_rate=hp_learning_rate)\n",
    "    model.compile(optimizer=optimizer, loss='binary_crossentropy', metrics=['acc'])\n",
    "\n",
    "    return model"
   ],
   "id": "dd26ea6eca24ee1e",
   "outputs": [],
   "execution_count": null
  },
  {
   "metadata": {
    "ExecuteTime": {
     "end_time": "2025-03-22T17:55:27.869689Z",
     "start_time": "2025-03-22T17:55:26.545843Z"
    }
   },
   "cell_type": "code",
   "source": [
    "# Load datasets\n",
    "\n",
    "dataset = Dataset('../../Dataset/DatasetsGerados/dataset_training_input.csv',\n",
    "                  '../../Dataset/DatasetsGerados/dataset_training_output.csv',\n",
    "                  '../../Dataset/DatasetsGerados/dataset_validation_input.csv',\n",
    "                  '../../Dataset/DatasetsGerados/dataset_validation_output.csv',\n",
    "                  '../../Dataset/DatasetsGerados/dataset_test_input.csv',\n",
    "                  '../../Dataset/DatasetsGerados/dataset_test_output.csv')\n",
    "\n",
    "# Remover pontuação deu pior resultado\n",
    "X_train, y_train, X_validation, y_validation, X_test, y_test, ids = dataset.get_datasets('Text', 'Label', sep='\\t', rem_punctuation=False)"
   ],
   "id": "301469d04701682f",
   "outputs": [],
   "execution_count": 3
  },
  {
   "metadata": {},
   "cell_type": "code",
   "source": [
    "# Start tuner\n",
    "\n",
    "tuner = kt.Hyperband(\n",
    "    build_model,\n",
    "    objective='acc',\n",
    "    max_epochs=20,\n",
    "    factor=3,\n",
    "    directory='./KerasTuner',  # Directory to store results\n",
    "    project_name='DNN_Tuning',\n",
    "    seed=42\n",
    ")\n",
    "\n",
    "tuner.search(X_train, y_train, epochs=20, batch_size=24, validation_data=(X_validation, y_validation))"
   ],
   "id": "8548eab2c73c1535",
   "outputs": [],
   "execution_count": null
  },
  {
   "metadata": {
    "ExecuteTime": {
     "end_time": "2025-03-22T17:55:54.712672Z",
     "start_time": "2025-03-22T17:55:27.892352Z"
    }
   },
   "cell_type": "code",
   "source": [
    "# 2 Layers: Hidden1=(units=16, activation=relu), Hidden2=(units=6, activation=relu), exit=(units=1, activation='relu'), epochs=20, batch_size=512, optimizer=default_rmsprop, prev: 80% no dataset1_inputs(phase1) do stor\n",
    "# 2 Layers: Hidden1=(units=70, activation=relu), Hidden2=(units=18, activation=relu), exit=(units=1, activation='relu'), epochs=20, batch_size=512, optimizer=default_rmsprop, prev: 80% no dataset1_inputs(phase1) do stor\n",
    "# 3 Layers: Hidden1=(units=38, activation=sigmoid), Hidden2=(units=92, activation=sigmoid), Hidden3=(units=6, activation=sigmoid), exit=(units=1, activation='sigmoid'), epochs=20, batch_size=512, optimizer=default_rmsprop, prev: 76.7% no dataset1_inputs(phase1) do stor\n",
    "# 3 Layers: Hidden1=(units=38, activation=sigmoid), Hidden2=(units=92, activation=sigmoid), Hidden3=(units=6, activation=sigmoid), exit=(units=1, activation='sigmoid'), epochs=30, batch_size=512, optimizer=default_rmsprop, prev: 76.7% no dataset1_inputs(phase1) do stor\n",
    "# 3 Layers: Hidden1=(units=38, activation=sigmoid), Hidden2=(units=16, activation=sigmoid), Hidden3=(units=8, activation=sigmoid), exit=(units=1, activation='sigmoid'), epochs=30, batch_size=24, optimizer=default_rmsprop, prev: 70% no dataset1_inputs(phase1) do stor\n",
    "# 4 Layers: Hidden1=(units=15, activation=sigmoid), Hidden2=(units=6, activation=sigmoid), Hidden3=(units=3, activation=sigmoid), Hidden4=(units=6, activation=sigmoid), exit=(units=1, activation='sigmoid'), epochs=30, batch_size=24, optimizer=default_rmsprop, prev: 76.7% no dataset1_inputs(phase1) do stor\n",
    "# 4 Layers: Hidden1=(units=15, activation=relu), Hidden2=(units=6, activation=sigmoid), Hidden3=(units=3, activation=relu), Hidden4=(units=6, activation=sigmoid), exit=(units=1, activation='sigmoid'), epochs=30, batch_size=24, optimizer=default_rmsprop, prev: 70% no dataset1_inputs(phase1) do stor\n",
    "# 4 Layers: Hidden1=(units=15, activation=relu), Hidden2=(units=6, activation=sigmoid), Hidden3=(units=3, activation=relu), Hidden4=(units=6, activation=sigmoid), exit=(units=1, activation='relu'), epochs=30, batch_size=24, optimizer=default_rmsprop, prev: 50% no dataset1_inputs(phase1) do stor\n",
    "# 4 Layers: Hidden1=(units=10, activation=relu), Hidden2=(units=13, activation=sigmoid), Hidden3=(units=7, activation=relu), Hidden4=(units=4, activation=sigmoid), exit=(units=1, activation='sigmoid'), epochs=20, batch_size=24, optimizer=default_rmsprop, prev: 80% no dataset1_inputs(phase1) do stor\n",
    "# 4 Layers: Hidden1=(units=38, activation=relu), Hidden2=(units=27, activation=sigmoid), Hidden3=(units=31, activation=relu), Hidden4=(units=21, activation=sigmoid), exit=(units=1, activation='sigmoid'), epochs=20, batch_size=24, optimizer=default_rmsprop, prev: 80% no dataset1_inputs(phase1) do stor\n",
    "# 4 Layers: Hidden1=(units=33, activation=swish), Hidden2=(units=20, activation=sigmoid), Hidden3=(units=28, activation=swish), Hidden4=(units=25, activation=sigmoid), exit=(units=1, activation='sigmoid'), epochs=20, batch_size=24, optimizer=default_rmsprop, prev: 76.7% no dataset1_inputs(phase1) do stor\n",
    "# 5 Layers: Hidden1=(units=33, activation=swish), Hidden2=(units=20, activation=sigmoid), Dropout1=(rate=0.25, activation=default), Hidden3=(units=25, activation=swish), Hidden4=(units=38, activation=sigmoid), exit=(units=1, activation='sigmoid'), epochs=20, batch_size=24, optimizer=default_rmsprop, prev: 80% no dataset1_inputs(phase1) do stor\n",
    "# 6 Layers: Hidden1=(units=33, activation=swish), Dropout1=(rate=0.1, activation=default), Hidden2=(units=28, activation=sigmoid), Dropout2=(rate=0.2, activation=default), Hidden3=(units=38, activation=swish), Hidden4=(units=27, activation=sigmoid), exit=(units=1, activation='sigmoid'), epochs=20, batch_size=24, optimizer=default_rmsprop, prev: 76.7% no dataset1_inputs(phase1) do stor\n",
    "# 6 Layers: Hidden1=(units=33, activation=swish), Dropout1=(rate=0.1, activation=default), Hidden2=(units=28, activation=sigmoid), Dropout2=(rate=0.30000000000000004, activation=default), Hidden3=(units=38, activation=swish), Hidden4=(units=27, activation=sigmoid), exit=(units=1, activation='sigmoid'), epochs=20, batch_size=24, optimizer=default_rmsprop, prev: 76.7% no dataset1_inputs(phase1) do stor\n",
    "# 6 Layers: Hidden1=(units=33, activation=swish), Dropout1=(rate=0.1, activation=default), Hidden2=(units=28, activation=sigmoid), Dropout2=(rate=0.30000000000000004, activation=default), Hidden3=(units=38, activation=swish), Hidden4=(units=27, activation=sigmoid), exit=(units=1, activation='sigmoid'), epochs=20, batch_size=24, optimizer=SGD(learning_rate=0.1, momentum=0.8), prev: 70% no dataset1_inputs(phase1) do stor\n",
    "# 6 Layers: Hidden1=(units=33, activation=swish), Dropout1=(rate=0.2, activation=default), Hidden2=(units=28, activation=sigmoid), Dropout2=(rate=0.6000000000000001, activation=default), Hidden3=(units=38, activation=swish), Hidden4=(units=27, activation=sigmoid), exit=(units=1, activation='sigmoid'), epochs=20, batch_size=24, optimizer=SGD(learning_rate=0.15, momentum=0.9), prev: 73.3% no dataset1_inputs(phase1) do stor\n",
    "# 6 Layers: Hidden1=(units=33, activation=swish), Dropout1=(rate=0.2, activation=default), Hidden2=(units=28, activation=sigmoid), Dropout2=(rate=0.30000000000000004, activation=default), Hidden3=(units=38, activation=swish), Hidden4=(units=27, activation=sigmoid), exit=(units=1, activation='sigmoid'), epochs=20, batch_size=24, optimizer=SGD(learning_rate=0.3, momentum=0.9), prev: 56.7% no dataset1_inputs(phase1) do stor\n",
    "# 4 Layers: Hidden1=(units=38, activation=relu), Hidden2=(units=27, activation=sigmoid), Hidden3=(units=31, activation=relu), Hidden4=(units=21, activation=sigmoid), exit=(units=1, activation='sigmoid'), epochs=20, batch_size=24, optimizer=Adam(learning_rate=0.001), prev: 83.3% no dataset1_inputs(phase1) do stor\n",
    "# 4 Layers: Hidden1=(units=38, activation=relu), Hidden2=(units=27, activation=sigmoid), Hidden3=(units=31, activation=relu), Hidden4=(units=21, activation=sigmoid), exit=(units=1, activation='sigmoid'), epochs=20, batch_size=24, optimizer=Adam(learning_rate=0.1), prev: 66.7% no dataset1_inputs(phase1) do stor\n",
    "# 4 Layers: Hidden1=(units=38, activation=relu), Hidden2=(units=27, activation=sigmoid), Hidden3=(units=31, activation=relu), Hidden4=(units=21, activation=sigmoid), exit=(units=1, activation='sigmoid'), epochs=20, batch_size=24, optimizer=Adam(learning_rate=0.2), prev: 50% no dataset1_inputs(phase1) do stor\n",
    "# 4 Layers: Hidden1=(units=38, activation=relu), Hidden2=(units=27, activation=sigmoid), Hidden3=(units=31, activation=relu), Hidden4=(units=21, activation=sigmoid), exit=(units=1, activation='sigmoid'), epochs=20, batch_size=24, optimizer=Adam(learning_rate=0.12), prev: 70% no dataset1_inputs(phase1) do stor\n",
    "# 4 Layers: Hidden1=(units=38, activation=relu), Hidden2=(units=27, activation=sigmoid), Hidden3=(units=31, activation=relu), Hidden4=(units=21, activation=sigmoid), exit=(units=1, activation='sigmoid'), epochs=20, batch_size=24, optimizer=Adam(learning_rate=0.0001), prev: 80% no dataset1_inputs(phase1) do stor\n",
    "# 4 Layers: Hidden1=(units=38, activation=relu), Hidden2=(units=27, activation=sigmoid), Hidden3=(units=31, activation=relu), Hidden4=(units=21, activation=sigmoid), exit=(units=1, activation='sigmoid'), epochs=20, batch_size=24, optimizer=Adam(learning_rate=0.0005), prev: 83.3% no dataset1_inputs(phase1) do stor\n",
    "# 4 Layers: Hidden1=(units=38, activation=relu), Hidden2=(units=27, activation=sigmoid), Hidden3=(units=31, activation=relu), Hidden4=(units=21, activation=sigmoid), exit=(units=1, activation='sigmoid'), epochs=20, batch_size=24, optimizer=RMSprop(learning_rate=0.01), prev: 66.7% no dataset1_inputs(phase1) do stor\n",
    "# 4 Layers: Hidden1=(units=38, activation=relu), Hidden2=(units=27, activation=sigmoid), Hidden3=(units=31, activation=relu), Hidden4=(units=21, activation=sigmoid), exit=(units=1, activation='sigmoid'), epochs=20, batch_size=24, optimizer=RMSprop(learning_rate=0.005), prev: 73.3% no dataset1_inputs(phase1) do stor\n",
    "# 4 Layers: Hidden1=(units=38, activation=relu), Hidden2=(units=27, activation=sigmoid), Hidden3=(units=31, activation=relu), Hidden4=(units=21, activation=sigmoid), exit=(units=1, activation='sigmoid'), epochs=20, batch_size=24, optimizer=RMSprop(learning_rate=0.001), prev: 76.7% no dataset1_inputs(phase1) do stor\n",
    "# 4 Layers: Hidden1=(units=38, activation=relu), Hidden2=(units=27, activation=sigmoid), Hidden3=(units=31, activation=relu), Hidden4=(units=21, activation=sigmoid), exit=(units=1, activation='sigmoid'), epochs=20, batch_size=24, optimizer=RMSprop(learning_rate=0.0005), prev: 76.7% no dataset1_inputs(phase1) do stor\n",
    "# 4 Layers: Hidden1=(units=38, activation=relu), Hidden2=(units=27, activation=sigmoid), Hidden3=(units=31, activation=relu), Hidden4=(units=21, activation=sigmoid), exit=(units=1, activation='sigmoid'), epochs=20, batch_size=24, optimizer=RMSprop(learning_rate=0.0001), prev: 73.3% no dataset1_inputs(phase1) do stor\n",
    "# 4 Layers: Hidden1=(units=38, activation=relu), Hidden2=(units=27, activation=sigmoid), Hidden3=(units=31, activation=relu), Hidden4=(units=21, activation=sigmoid), exit=(units=1, activation='sigmoid'), epochs=20, batch_size=24, optimizer=Adagrad(learning_rate=0.01), prev: 80% no dataset1_inputs(phase1) do stor\n",
    "# 4 Layers: Hidden1=(units=38, activation=relu), Hidden2=(units=27, activation=sigmoid), Hidden3=(units=31, activation=relu), Hidden4=(units=21, activation=sigmoid), exit=(units=1, activation='sigmoid'), epochs=20, batch_size=24, optimizer=Adagrad(learning_rate=0.001), prev: 73.3% no dataset1_inputs(phase1) do stor\n",
    "# 4 Layers: Hidden1=(units=38, activation=relu), Hidden2=(units=27, activation=sigmoid), Hidden3=(units=31, activation=relu), Hidden4=(units=21, activation=sigmoid), exit=(units=1, activation='sigmoid'), epochs=20, batch_size=24, optimizer=Adagrad(learning_rate=0.005), prev: 73.3% no dataset1_inputs(phase1) do stor\n",
    "# 4 Layers: Hidden1=(units=38, activation=relu), Hidden2=(units=27, activation=sigmoid), Hidden3=(units=31, activation=relu), Hidden4=(units=21, activation=sigmoid), exit=(units=1, activation='sigmoid'), epochs=20, batch_size=24, optimizer=Adagrad(learning_rate=0.0001), prev: 50% no dataset1_inputs(phase1) do stor\n",
    "# 4 Layers: Hidden1=(units=38, activation=relu), Hidden2=(units=27, activation=sigmoid), Hidden3=(units=31, activation=relu), Hidden4=(units=21, activation=sigmoid), exit=(units=1, activation='sigmoid'), epochs=20, batch_size=24, optimizer=Adagrad(learning_rate=0.1), prev: 50% no dataset1_inputs(phase1) do stor\n",
    "# 4 Layers: Hidden1=(units=38, activation=relu), Hidden2=(units=27, activation=sigmoid), Hidden3=(units=31, activation=relu), Hidden4=(units=21, activation=sigmoid), exit=(units=1, activation='sigmoid'), epochs=20, batch_size=24, optimizer=Adamax(learning_rate=0.1), prev: 70% no dataset1_inputs(phase1) do stor\n",
    "# 4 Layers: Hidden1=(units=38, activation=relu), Hidden2=(units=27, activation=sigmoid), Hidden3=(units=31, activation=relu), Hidden4=(units=21, activation=sigmoid), exit=(units=1, activation='sigmoid'), epochs=20, batch_size=24, optimizer=Adamax(learning_rate=0.01), prev: 70% no dataset1_inputs(phase1) do stor\n",
    "# 4 Layers: Hidden1=(units=38, activation=relu), Hidden2=(units=27, activation=sigmoid), Hidden3=(units=31, activation=relu), Hidden4=(units=21, activation=sigmoid), exit=(units=1, activation='sigmoid'), epochs=20, batch_size=24, optimizer=Adamax(learning_rate=0.001), prev: 80% no dataset1_inputs(phase1) do stor\n",
    "# 4 Layers: Hidden1=(units=38, activation=relu), Hidden2=(units=27, activation=sigmoid), Hidden3=(units=31, activation=relu), Hidden4=(units=21, activation=sigmoid), exit=(units=1, activation='sigmoid'), epochs=20, batch_size=24, optimizer=Adamax(learning_rate=0.0001), prev: 76.7% no dataset1_inputs(phase1) do stor\n",
    "# 4 Layers: Hidden1=(units=38, activation=relu), Hidden2=(units=27, activation=sigmoid), Hidden3=(units=31, activation=relu), Hidden4=(units=21, activation=sigmoid), exit=(units=1, activation='sigmoid'), epochs=20, batch_size=24, optimizer=Adamax(learning_rate=0.0005), prev: 80% no dataset1_inputs(phase1) do stor\n",
    "# 4 Layers: Hidden1=(units=38, activation=relu), Hidden2=(units=27, activation=sigmoid), Hidden3=(units=31, activation=relu), Hidden4=(units=21, activation=sigmoid), exit=(units=1, activation='sigmoid'), epochs=20, batch_size=24, optimizer=Adam(learning_rate=0.0005), prev: 80% no dataset1_inputs(phase2) do stor\n",
    "# 4 Layers: Hidden1=(units=38, activation=relu), Hidden2=(units=27, activation=sigmoid), Hidden3=(units=31, activation=relu), Hidden4=(units=21, activation=sigmoid), exit=(units=1, activation='sigmoid'), epochs=20, batch_size=24, optimizer=Adam(learning_rate=0.0001), prev: 82.5% no dataset1_inputs(phase2) do stor\n",
    "\n",
    "# best_hps = tuner.get_best_hyperparameters(num_trials=1)[0]\n",
    "\n",
    "n_features = X_train.shape[1]\n",
    "\n",
    "hidden1_units = 38 # best_hps['hidden1_units']\n",
    "hidden2_units = 27 # best_hps['hidden2_units']\n",
    "hidden3_units = 31 # best_hps['hidden3_units']\n",
    "hidden4_units = 21 # best_hps['hidden4_units']\n",
    "# dropout1 = best_hps['dropout1']\n",
    "# dropout2 = best_hps['dropout2']\n",
    "# learning_rate = best_hps['learning_rate']\n",
    "# momentum = best_hps['momentum']\n",
    "\n",
    "print(f\"Hidden Layer 1 has {hidden1_units} units\")\n",
    "# print(f\"Dropout 1 has {dropout1} rate\")\n",
    "print(f\"Hidden Layer 2 has {hidden2_units} units\")\n",
    "# print(f\"Dropout 2 has {dropout2} rate\")\n",
    "print(f\"Hidden Layer 3 has {hidden3_units} units\")\n",
    "print(f\"Hidden Layer 4 has {hidden4_units} units\")\n",
    "# print(f\"Optimizer learning rate: {learning_rate}\")\n",
    "# print(f\"Optimizer momentum: {momentum}\")\n",
    "\n",
    "import shutil\n",
    "#shutil.rmtree('./KerasTuner')\n",
    "\n",
    "model = models.Sequential()\n",
    "model.add(Input((n_features,)))\n",
    "model.add(layers.Dense(hidden1_units, activation='relu'))\n",
    "# model.add(layers.Dropout(rate=dropout1))\n",
    "model.add(layers.Dense(hidden2_units, activation='sigmoid'))\n",
    "# model.add(layers.Dropout(rate=dropout2))\n",
    "model.add(layers.Dense(hidden3_units, activation='relu'))\n",
    "model.add(layers.Dense(hidden4_units, activation='sigmoid'))\n",
    "model.add(layers.Dense(1, activation='sigmoid'))\n",
    "\n",
    "# Tune the learning rate\n",
    "optimizer = optimizers.Adam(learning_rate=0.0001)\n",
    "model.compile(optimizer=optimizer, loss='binary_crossentropy', metrics=['acc'])\n",
    "\n",
    "history = model.fit(X_train, y_train, epochs=20, batch_size=24, validation_data=(X_validation, y_validation))\n",
    "\n",
    "# Plot accuracy curves\n",
    "\n",
    "history_dict = history.history\n",
    "acc_values = history_dict['acc']\n",
    "val_acc_values = history_dict['val_acc']\n",
    "epochs = range(1, len(acc_values) + 1)\n",
    "\n",
    "plt.plot(epochs, acc_values, 'bo', label='Training acc')\n",
    "plt.plot(epochs, val_acc_values, 'b', label='Validation acc')\n",
    "plt.title('Training and validation accuracy')\n",
    "plt.xlabel('Epochs')\n",
    "plt.ylabel('Acc')\n",
    "plt.legend()\n",
    "plt.show()\n",
    "\n",
    "# Plot loss curves\n",
    "\n",
    "loss_values = history_dict['loss']\n",
    "val_loss_values = history_dict['val_loss']\n",
    "\n",
    "plt.plot(epochs, loss_values, 'bo', label='Training loss')\n",
    "plt.plot(epochs, val_loss_values, 'b', label='Validation loss')\n",
    "plt.title('Training and validation loss')\n",
    "plt.xlabel('Epochs')\n",
    "plt.ylabel('Loss')\n",
    "plt.legend()\n",
    "plt.show()"
   ],
   "id": "74476120c1ffd78e",
   "outputs": [
    {
     "name": "stdout",
     "output_type": "stream",
     "text": [
      "Hidden Layer 1 has 38 units\n",
      "Hidden Layer 2 has 27 units\n",
      "Hidden Layer 3 has 31 units\n",
      "Hidden Layer 4 has 21 units\n",
      "Epoch 1/20\n",
      "\u001B[1m125/125\u001B[0m \u001B[32m━━━━━━━━━━━━━━━━━━━━\u001B[0m\u001B[37m\u001B[0m \u001B[1m4s\u001B[0m 11ms/step - acc: 0.4898 - loss: 0.7208 - val_acc: 0.5000 - val_loss: 0.6387\n",
      "Epoch 2/20\n",
      "\u001B[1m125/125\u001B[0m \u001B[32m━━━━━━━━━━━━━━━━━━━━\u001B[0m\u001B[37m\u001B[0m \u001B[1m1s\u001B[0m 9ms/step - acc: 0.6251 - loss: 0.6054 - val_acc: 0.9880 - val_loss: 0.4819\n",
      "Epoch 3/20\n",
      "\u001B[1m125/125\u001B[0m \u001B[32m━━━━━━━━━━━━━━━━━━━━\u001B[0m\u001B[37m\u001B[0m \u001B[1m1s\u001B[0m 9ms/step - acc: 0.9991 - loss: 0.4427 - val_acc: 0.9980 - val_loss: 0.3336\n",
      "Epoch 4/20\n",
      "\u001B[1m125/125\u001B[0m \u001B[32m━━━━━━━━━━━━━━━━━━━━\u001B[0m\u001B[37m\u001B[0m \u001B[1m1s\u001B[0m 9ms/step - acc: 1.0000 - loss: 0.2987 - val_acc: 0.9990 - val_loss: 0.2227\n",
      "Epoch 5/20\n",
      "\u001B[1m125/125\u001B[0m \u001B[32m━━━━━━━━━━━━━━━━━━━━\u001B[0m\u001B[37m\u001B[0m \u001B[1m1s\u001B[0m 8ms/step - acc: 1.0000 - loss: 0.1986 - val_acc: 1.0000 - val_loss: 0.1557\n",
      "Epoch 6/20\n",
      "\u001B[1m125/125\u001B[0m \u001B[32m━━━━━━━━━━━━━━━━━━━━\u001B[0m\u001B[37m\u001B[0m \u001B[1m1s\u001B[0m 9ms/step - acc: 1.0000 - loss: 0.1398 - val_acc: 1.0000 - val_loss: 0.1155\n",
      "Epoch 7/20\n",
      "\u001B[1m125/125\u001B[0m \u001B[32m━━━━━━━━━━━━━━━━━━━━\u001B[0m\u001B[37m\u001B[0m \u001B[1m1s\u001B[0m 9ms/step - acc: 1.0000 - loss: 0.1045 - val_acc: 1.0000 - val_loss: 0.0902\n",
      "Epoch 8/20\n",
      "\u001B[1m125/125\u001B[0m \u001B[32m━━━━━━━━━━━━━━━━━━━━\u001B[0m\u001B[37m\u001B[0m \u001B[1m1s\u001B[0m 9ms/step - acc: 1.0000 - loss: 0.0823 - val_acc: 1.0000 - val_loss: 0.0735\n",
      "Epoch 9/20\n",
      "\u001B[1m125/125\u001B[0m \u001B[32m━━━━━━━━━━━━━━━━━━━━\u001B[0m\u001B[37m\u001B[0m \u001B[1m1s\u001B[0m 9ms/step - acc: 1.0000 - loss: 0.0675 - val_acc: 1.0000 - val_loss: 0.0618\n",
      "Epoch 10/20\n",
      "\u001B[1m125/125\u001B[0m \u001B[32m━━━━━━━━━━━━━━━━━━━━\u001B[0m\u001B[37m\u001B[0m \u001B[1m1s\u001B[0m 9ms/step - acc: 1.0000 - loss: 0.0572 - val_acc: 1.0000 - val_loss: 0.0533\n",
      "Epoch 11/20\n",
      "\u001B[1m125/125\u001B[0m \u001B[32m━━━━━━━━━━━━━━━━━━━━\u001B[0m\u001B[37m\u001B[0m \u001B[1m1s\u001B[0m 9ms/step - acc: 1.0000 - loss: 0.0495 - val_acc: 1.0000 - val_loss: 0.0467\n",
      "Epoch 12/20\n",
      "\u001B[1m125/125\u001B[0m \u001B[32m━━━━━━━━━━━━━━━━━━━━\u001B[0m\u001B[37m\u001B[0m \u001B[1m1s\u001B[0m 9ms/step - acc: 1.0000 - loss: 0.0436 - val_acc: 1.0000 - val_loss: 0.0415\n",
      "Epoch 13/20\n",
      "\u001B[1m125/125\u001B[0m \u001B[32m━━━━━━━━━━━━━━━━━━━━\u001B[0m\u001B[37m\u001B[0m \u001B[1m1s\u001B[0m 9ms/step - acc: 1.0000 - loss: 0.0389 - val_acc: 1.0000 - val_loss: 0.0373\n",
      "Epoch 14/20\n",
      "\u001B[1m125/125\u001B[0m \u001B[32m━━━━━━━━━━━━━━━━━━━━\u001B[0m\u001B[37m\u001B[0m \u001B[1m1s\u001B[0m 9ms/step - acc: 1.0000 - loss: 0.0351 - val_acc: 1.0000 - val_loss: 0.0338\n",
      "Epoch 15/20\n",
      "\u001B[1m125/125\u001B[0m \u001B[32m━━━━━━━━━━━━━━━━━━━━\u001B[0m\u001B[37m\u001B[0m \u001B[1m1s\u001B[0m 9ms/step - acc: 1.0000 - loss: 0.0319 - val_acc: 1.0000 - val_loss: 0.0309\n",
      "Epoch 16/20\n",
      "\u001B[1m125/125\u001B[0m \u001B[32m━━━━━━━━━━━━━━━━━━━━\u001B[0m\u001B[37m\u001B[0m \u001B[1m1s\u001B[0m 9ms/step - acc: 1.0000 - loss: 0.0292 - val_acc: 1.0000 - val_loss: 0.0284\n",
      "Epoch 17/20\n",
      "\u001B[1m125/125\u001B[0m \u001B[32m━━━━━━━━━━━━━━━━━━━━\u001B[0m\u001B[37m\u001B[0m \u001B[1m1s\u001B[0m 9ms/step - acc: 1.0000 - loss: 0.0268 - val_acc: 1.0000 - val_loss: 0.0262\n",
      "Epoch 18/20\n",
      "\u001B[1m125/125\u001B[0m \u001B[32m━━━━━━━━━━━━━━━━━━━━\u001B[0m\u001B[37m\u001B[0m \u001B[1m1s\u001B[0m 9ms/step - acc: 1.0000 - loss: 0.0248 - val_acc: 1.0000 - val_loss: 0.0242\n",
      "Epoch 19/20\n",
      "\u001B[1m125/125\u001B[0m \u001B[32m━━━━━━━━━━━━━━━━━━━━\u001B[0m\u001B[37m\u001B[0m \u001B[1m1s\u001B[0m 9ms/step - acc: 1.0000 - loss: 0.0230 - val_acc: 1.0000 - val_loss: 0.0225\n",
      "Epoch 20/20\n",
      "\u001B[1m125/125\u001B[0m \u001B[32m━━━━━━━━━━━━━━━━━━━━\u001B[0m\u001B[37m\u001B[0m \u001B[1m1s\u001B[0m 9ms/step - acc: 1.0000 - loss: 0.0214 - val_acc: 1.0000 - val_loss: 0.0210\n"
     ]
    },
    {
     "data": {
      "text/plain": [
       "<Figure size 640x480 with 1 Axes>"
      ],
      "image/png": "[encoded data removed]"
     },
     "metadata": {},
     "output_type": "display_data"
    },
    {
     "data": {
      "text/plain": [
       "<Figure size 640x480 with 1 Axes>"
      ],
      "image/png": "[encoded data removed]"
     },
     "metadata": {},
     "output_type": "display_data"
    }
   ],
   "execution_count": 4
  },
  {
   "metadata": {
    "ExecuteTime": {
     "end_time": "2025-03-22T17:57:00.372354Z",
     "start_time": "2025-03-22T17:57:00.006934Z"
    }
   },
   "cell_type": "code",
   "source": [
    "# Predict test dataset\n",
    "\n",
    "out = model.predict(X_test)\n",
    "\n",
    "if y_test is not None:\n",
    "    print(model.evaluate(X_test, y_test))"
   ],
   "id": "8306d0fcaadc551a",
   "outputs": [
    {
     "name": "stdout",
     "output_type": "stream",
     "text": [
      "\u001B[1m3/3\u001B[0m \u001B[32m━━━━━━━━━━━━━━━━━━━━\u001B[0m\u001B[37m\u001B[0m \u001B[1m0s\u001B[0m 19ms/step\n",
      "\u001B[1m3/3\u001B[0m \u001B[32m━━━━━━━━━━━━━━━━━━━━\u001B[0m\u001B[37m\u001B[0m \u001B[1m0s\u001B[0m 25ms/step - acc: 0.8344 - loss: 0.5318\n",
      "[0.5418264865875244, 0.824999988079071]\n"
     ]
    }
   ],
   "execution_count": 7
  },
  {
   "metadata": {},
   "cell_type": "code",
   "source": [
    "# Store results\n",
    "\n",
    "results_filepath = './Results/dnn_tuner_results.csv'\n",
    "\n",
    "# Ensure the directory exists\n",
    "os.makedirs(os.path.dirname(results_filepath), exist_ok=True)\n",
    "\n",
    "results = dataset.merge_results(ids, out)\n",
    "results.to_csv(results_filepath, sep='\\t', index=False)"
   ],
   "id": "d8cff868cc782e42",
   "outputs": [],
   "execution_count": null
  },
  {
   "metadata": {
    "ExecuteTime": {
     "end_time": "2025-03-22T17:55:55.555682Z",
     "start_time": "2025-03-22T17:55:55.510338Z"
    }
   },
   "cell_type": "code",
   "source": [
    "dataset.set_dataset_test('../../Dataset/dataset1_inputs.csv', '../../Dataset/dataset1_outputs.csv')\n",
    "\n",
    "X_test, y_test, ids = dataset.get_test_dataset('Text', 'Label', sep='\\t', rem_punctuation=False)"
   ],
   "id": "f6dbff8e3d2e0cd7",
   "outputs": [],
   "execution_count": 6
  },
  {
   "metadata": {},
   "cell_type": "code",
   "source": [
    "from tensorflow.keras import regularizers\n",
    "from tensorflow.keras.callbacks import EarlyStopping\n",
    "\n",
    "optimizer = optimizers.SGD(learning_rate=0.0034, momentum=0.85)\n",
    "regularizer = regularizers.l2(0.05)\n",
    "\n",
    "model = models.Sequential()\n",
    "model.add(Input((n_features,)))\n",
    "model.add(layers.Dense(32, activation='sigmoid', kernel_regularizer=regularizer))\n",
    "model.add(layers.Dense(16, activation='sigmoid', kernel_regularizer=regularizer))\n",
    "model.add(layers.Dense(8))\n",
    "model.add(layers.Dropout(0.8))\n",
    "model.add(layers.Dense(1, activation='sigmoid'))\n",
    "\n",
    "model.compile(optimizer=optimizer, loss='binary_crossentropy', metrics=['acc'])\n",
    "\n",
    "history = model.fit(X_train, y_train, epochs=60, batch_size=30, validation_data=(X_validation, y_validation), callbacks=[EarlyStopping(patience=50, min_delta=0.001)])\n",
    "\n",
    "# Plot accuracy curves\n",
    "\n",
    "history_dict = history.history\n",
    "acc_values = history_dict['acc']\n",
    "val_acc_values = history_dict['val_acc']\n",
    "epochs = range(1, len(acc_values) + 1)\n",
    "\n",
    "plt.plot(epochs, acc_values, 'bo', label='Training acc')\n",
    "plt.plot(epochs, val_acc_values, 'b', label='Validation acc')\n",
    "plt.title('Training and validation accuracy')\n",
    "plt.xlabel('Epochs')\n",
    "plt.ylabel('Acc')\n",
    "plt.legend()\n",
    "plt.show()\n",
    "\n",
    "# Plot loss curves\n",
    "\n",
    "loss_values = history_dict['loss']\n",
    "val_loss_values = history_dict['val_loss']\n",
    "\n",
    "plt.plot(epochs, loss_values, 'bo', label='Training loss')\n",
    "plt.plot(epochs, val_loss_values, 'b', label='Validation loss')\n",
    "plt.title('Training and validation loss')\n",
    "plt.xlabel('Epochs')\n",
    "plt.ylabel('Loss')\n",
    "plt.legend()\n",
    "plt.show()"
   ],
   "id": "509f6c439ff6732c",
   "outputs": [],
   "execution_count": null
  },
  {
   "metadata": {},
   "cell_type": "code",
   "source": [
    "# Predict test dataset\n",
    "\n",
    "out = model.predict(X_test)\n",
    "\n",
    "if y_test is not None:\n",
    "    print(model.evaluate(X_test, y_test))"
   ],
   "id": "8cabcd448a6460e1",
   "outputs": [],
   "execution_count": null
  },
  {
   "metadata": {},
   "cell_type": "code",
   "source": "",
   "id": "4cf99f71c2c3c90d",
   "outputs": [],
   "execution_count": null
  }
 ],
 "metadata": {
  "kernelspec": {
   "display_name": "Python 3",
   "language": "python",
   "name": "python3"
  },
  "language_info": {
   "codemirror_mode": {
    "name": "ipython",
    "version": 2
   },
   "file_extension": ".py",
   "mimetype": "text/x-python",
   "name": "python",
   "nbconvert_exporter": "python",
   "pygments_lexer": "ipython2",
   "version": "2.7.6"
  }
 },
 "nbformat": 4,
 "nbformat_minor": 5
}
