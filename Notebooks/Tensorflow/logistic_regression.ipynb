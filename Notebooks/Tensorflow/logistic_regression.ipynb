{
 "cells": [
  {
   "cell_type": "code",
   "execution_count": null,
   "id": "initial_id",
   "metadata": {
    "collapsed": true
   },
   "outputs": [],
   "source": [
    "import numpy as np\n",
    "import pandas as pd\n",
    "import matplotlib.pyplot as plt\n",
    "\n",
    "from tensorflow.keras import models, layers, Input\n",
    "from sklearn.feature_extraction.text import CountVectorizer"
   ]
  },
  {
   "metadata": {},
   "cell_type": "code",
   "outputs": [],
   "execution_count": null,
   "source": [
    "# Import Data\n",
    "\n",
    "train = pd.read_csv('../../Dataset/dataset_training_small.csv', sep=';')\n",
    "test = pd.read_csv('../../Dataset/dataset_test_small.csv', sep=';')\n",
    "validation = pd.read_csv('../../Dataset/dataset_validation_small.csv', sep=';')"
   ],
   "id": "855ff08fa240138d"
  },
  {
   "metadata": {},
   "cell_type": "code",
   "outputs": [],
   "execution_count": null,
   "source": [
    "# Preprocess data\n",
    "\n",
    "vectorizer = CountVectorizer()\n",
    "\n",
    "X_train = train.drop('ai_generator', inplace=False, axis=1)\n",
    "vectorizer.fit(X_train['text'])\n",
    "X_train = vectorizer.transform(X_train['text']).toarray()\n",
    "\n",
    "y_train = train['ai_generator']\n",
    "y_train = y_train.to_numpy()\n",
    "\n",
    "X_test = test.drop('ai_generator', inplace=False, axis=1)\n",
    "X_test = vectorizer.transform(X_test['text']).toarray()\n",
    "\n",
    "y_test = test['ai_generator']\n",
    "y_test = y_test.to_numpy()\n",
    "\n",
    "X_validation = validation.drop('ai_generator', inplace=False, axis=1)\n",
    "X_validation = vectorizer.transform(X_validation['text']).toarray()\n",
    "\n",
    "y_validation = validation['ai_generator']\n",
    "y_validation = y_validation.to_numpy()"
   ],
   "id": "f3985794b5805c6d"
  },
  {
   "metadata": {},
   "cell_type": "code",
   "outputs": [],
   "execution_count": null,
   "source": [
    "# Build Model\n",
    "\n",
    "hidden = 16\n",
    "\n",
    "n_features = X_train.shape[1]\n",
    "\n",
    "model = models.Sequential()\n",
    "model.add(Input((n_features,)))\n",
    "model.add(layers.Dense(hidden, activation='relu'))\n",
    "model.add(layers.Dense(hidden, activation='relu'))\n",
    "model.add(layers.Dense(1, activation='sigmoid'))\n",
    "\n",
    "# Train Model\n",
    "\n",
    "model.compile(optimizer='rmsprop', loss='binary_crossentropy', metrics=['acc'])\n",
    "\n",
    "history = model.fit(X_train, y_train, epochs=20, batch_size=512, validation_data=(X_validation, y_validation))\n",
    "\n",
    "# Plot accuracy curves\n",
    "\n",
    "history_dict = history.history\n",
    "acc_values = history_dict['acc']\n",
    "val_acc_values = history_dict['val_acc']\n",
    "epochs = range(1, len(acc_values) + 1)\n",
    "\n",
    "plt.plot(epochs, acc_values, 'bo', label='Training acc')\n",
    "plt.plot(epochs, val_acc_values, 'b', label='Validation acc')\n",
    "plt.title('Training and validation accuracy')\n",
    "plt.xlabel('Epochs')\n",
    "plt.ylabel('Acc')\n",
    "plt.legend()\n",
    "plt.show()\n",
    "\n",
    "# Plot loss curves\n",
    "\n",
    "loss_values = history_dict['loss']\n",
    "val_loss_values = history_dict['val_loss']\n",
    "\n",
    "plt.plot(epochs, loss_values, 'bo', label='Training loss')\n",
    "plt.plot(epochs, val_loss_values, 'b', label='Validation loss')\n",
    "plt.title('Training and validation loss')\n",
    "plt.xlabel('Epochs')\n",
    "plt.ylabel('Loss')\n",
    "plt.legend()\n",
    "plt.show()\n",
    "\n",
    "# Evaluate Model\n",
    "results = model.evaluate(X_test, y_test, verbose = 0)\n",
    "results\n",
    "\n",
    "# Extreme low loss and perfect accuracy\n",
    "# Perguntar ao stor o que significa"
   ],
   "id": "9e3aed086a61c01a"
  }
 ],
 "metadata": {
  "kernelspec": {
   "display_name": "Python 3",
   "language": "python",
   "name": "python3"
  },
  "language_info": {
   "codemirror_mode": {
    "name": "ipython",
    "version": 2
   },
   "file_extension": ".py",
   "mimetype": "text/x-python",
   "name": "python",
   "nbconvert_exporter": "python",
   "pygments_lexer": "ipython2",
   "version": "2.7.6"
  }
 },
 "nbformat": 4,
 "nbformat_minor": 5
}
