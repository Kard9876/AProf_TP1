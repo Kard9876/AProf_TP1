{
 "cells": [
  {
   "cell_type": "code",
   "id": "initial_id",
   "metadata": {
    "collapsed": true,
    "ExecuteTime": {
     "end_time": "2025-03-30T14:49:24.232659Z",
     "start_time": "2025-03-30T14:49:20.071246Z"
    }
   },
   "source": [
    "# Import needed libraries and classes\n",
    "\n",
    "import os\n",
    "import matplotlib.pyplot as plt\n",
    "\n",
    "import random\n",
    "import numpy as np\n",
    "import tensorflow\n",
    "import keras_tuner as kt\n",
    "\n",
    "import tensorflow.keras.preprocessing as preprocessing\n",
    "from keras.src.callbacks import EarlyStopping\n",
    "from tensorflow.keras import models, initializers, optimizers\n",
    "from tensorflow.keras.layers import LSTM, Dense, Embedding, Dropout\n",
    "from tensorflow.keras.layers import GRU\n",
    "from tensorflow.keras.preprocessing.text import Tokenizer\n",
    "from tensorflow.keras.initializers import GlorotUniform\n",
    "from tensorflow.keras.optimizers import SGD\n",
    "\n",
    "from Code.utils.dataset import Dataset\n",
    "import Code.utils.store_model as store_model"
   ],
   "outputs": [
    {
     "name": "stderr",
     "output_type": "stream",
     "text": [
      "[nltk_data] Downloading package punkt to\n",
      "[nltk_data]     C:\\Users\\mrjoa\\AppData\\Roaming\\nltk_data...\n",
      "[nltk_data]   Package punkt is already up-to-date!\n"
     ]
    }
   ],
   "execution_count": 1
  },
  {
   "metadata": {
    "ExecuteTime": {
     "end_time": "2025-03-30T14:49:24.269176Z",
     "start_time": "2025-03-30T14:49:24.263325Z"
    }
   },
   "cell_type": "code",
   "source": [
    "seed=42\n",
    "np.random.seed(seed)\n",
    "tensorflow.random.set_seed(seed)\n",
    "random.seed(seed)\n",
    "os.environ['TF_DETERMINISTIC_OPS'] = '1'\n",
    "embeddings_initializer=initializers.GlorotUniform(seed=seed)"
   ],
   "id": "3f407bcb01f4e72d",
   "outputs": [],
   "execution_count": 2
  },
  {
   "metadata": {
    "ExecuteTime": {
     "end_time": "2025-03-30T14:49:24.444932Z",
     "start_time": "2025-03-30T14:49:24.436611Z"
    }
   },
   "cell_type": "code",
   "source": [
    "epochs = 10\n",
    "def build_model(hp):\n",
    "    min_hidden = 2\n",
    "    max_hidden = 16\n",
    "\n",
    "    hp1_units = hp.Int('hidden1_units', min_value = min_hidden,max_value = max_hidden, step = min_hidden)\n",
    "    hp2_units = hp.Int('hidden2_units', min_value = min_hidden,max_value = max_hidden, step = min_hidden)\n",
    "    hp_learning_rate = hp.Choice('learning_rate', values = [0.1, 0.01, 0.001])\n",
    "    hp_momentum = hp.Choice('momentum', values = [0.5, 0.9, 0.95])\n",
    "    hp_batch = hp.Choice('batch', values = [4, 8, 16])\n",
    "    hp_dropout = hp.Choice('dropout', values = [0.2, 0.3, 0.4])\n",
    "    hp_dropout1 = hp.Choice('dropout1', values = [0.2, 0.3, 0.4])\n",
    "\n",
    "    model = models.Sequential()\n",
    "    model.add(Embedding(max_words, epochs))\n",
    "\n",
    "    model.add(LSTM(hp1_units, return_sequences=True, kernel_initializer=GlorotUniform(seed=seed), activation='tanh', recurrent_activation='hard_sigmoid'))\n",
    "    model.add(Dropout(hp_dropout))\n",
    "\n",
    "    model.add(LSTM(hp2_units, kernel_initializer=GlorotUniform(seed=seed), activation='tanh', recurrent_activation='hard_sigmoid'))\n",
    "    model.add(Dropout(hp_dropout1))\n",
    "\n",
    "    model.add(Dense(1, activation='sigmoid'))\n",
    "\n",
    "    optimizer = SGD(learning_rate=hp_learning_rate, momentum=hp_momentum)\n",
    "\n",
    "    model.compile(optimizer=optimizer, loss='binary_crossentropy', metrics=['acc'])\n",
    "\n",
    "    return model\n"
   ],
   "id": "ccf7c9751271aa7d",
   "outputs": [],
   "execution_count": 3
  },
  {
   "metadata": {
    "ExecuteTime": {
     "end_time": "2025-03-30T14:49:24.548473Z",
     "start_time": "2025-03-30T14:49:24.455251Z"
    }
   },
   "cell_type": "code",
   "source": [
    "# Load datasets\n",
    "dataset = Dataset('../../Dataset/DatasetsGerados/dataset_training_input.csv',\n",
    "                  '../../Dataset/DatasetsGerados/dataset_training_output.csv',\n",
    "                  '../../Dataset/DatasetsGerados/dataset_validation_input.csv',\n",
    "                  '../../Dataset/DatasetsGerados/dataset_validation_output.csv',\n",
    "                  '../../Dataset/dataset1_inputs.csv',\n",
    "                  '../../Dataset/dataset1_outputs.csv')\n",
    "\n",
    "X_train, y_train, X_validation, y_validation, X_test, y_test, ids = dataset.get_datasets_unprocessed('Text', 'Label', sep='\\t', rem_punctuation=True)"
   ],
   "id": "5d79d13b89eb6dfd",
   "outputs": [],
   "execution_count": 4
  },
  {
   "metadata": {
    "ExecuteTime": {
     "end_time": "2025-03-30T14:49:24.914003Z",
     "start_time": "2025-03-30T14:49:24.553376Z"
    }
   },
   "cell_type": "code",
   "source": [
    "#tokenization\n",
    "\n",
    "max_words = 1500\n",
    "max_len = 200\n",
    "\n",
    "tokenizer = Tokenizer(num_words=max_words)  # limit to top max_words words\n",
    "tokenizer.fit_on_texts(X_train.iloc[:, 0])\n",
    "\n",
    "X_train = tokenizer.texts_to_sequences(X_train.iloc[:, 0])\n",
    "X_validation = tokenizer.texts_to_sequences(X_validation.iloc[:, 0])\n",
    "X_test = tokenizer.texts_to_sequences(X_test.iloc[:, 0])\n",
    "\n",
    "X_train = preprocessing.sequence.pad_sequences(X_train, maxlen=max_len)\n",
    "X_validation = preprocessing.sequence.pad_sequences(X_validation, maxlen=max_len)\n",
    "X_test = preprocessing.sequence.pad_sequences(X_test, maxlen=max_len)"
   ],
   "id": "69d0aae504309268",
   "outputs": [],
   "execution_count": 5
  },
  {
   "metadata": {
    "jupyter": {
     "is_executing": true
    }
   },
   "cell_type": "code",
   "source": [
    "#Start Tuner\n",
    "tuner = kt.Hyperband(\n",
    "    build_model,\n",
    "    objective = 'val_acc',\n",
    "    max_epochs = epochs,\n",
    "    factor = 3,\n",
    "    directory = './KerasTuner',\n",
    "    project_name = 'Lstm',\n",
    "    seed = seed,\n",
    ")\n",
    "\n",
    "early_stopping = EarlyStopping(monitor = 'val_acc', patience = 2, min_delta = 0.001, restore_best_weights = True)\n",
    "\n",
    "tuner.search(X_train, y_train, epochs = epochs, validation_data = (X_validation, y_validation), callbacks = [early_stopping])"
   ],
   "id": "b0dbce0ae9c380dd",
   "execution_count": null,
   "outputs": [
    {
     "name": "stdout",
     "output_type": "stream",
     "text": [
      "Trial 18 Complete [00h 00m 24s]\n",
      "val_acc: 0.5339999794960022\n",
      "\n",
      "Best val_acc So Far: 0.9480000138282776\n",
      "Total elapsed time: 00h 05m 25s\n",
      "\n",
      "Search: Running Trial #19\n",
      "\n",
      "Value             |Best Value So Far |Hyperparameter\n",
      "10                |8                 |hidden1_units\n",
      "2                 |2                 |hidden2_units\n",
      "0.001             |0.1               |learning_rate\n",
      "0.9               |0.95              |momentum\n",
      "8                 |16                |batch\n",
      "0.2               |0.2               |dropout\n",
      "0.3               |0.4               |dropout1\n",
      "4                 |2                 |tuner/epochs\n",
      "0                 |0                 |tuner/initial_epoch\n",
      "1                 |2                 |tuner/bracket\n",
      "0                 |0                 |tuner/round\n",
      "\n",
      "Epoch 1/4\n",
      "\u001B[1m25/94\u001B[0m \u001B[32m━━━━━\u001B[0m\u001B[37m━━━━━━━━━━━━━━━\u001B[0m \u001B[1m5s\u001B[0m 85ms/step - acc: 0.5058 - loss: 0.6930"
     ]
    }
   ]
  },
  {
   "metadata": {
    "ExecuteTime": {
     "end_time": "2025-03-30T14:44:18.254796Z",
     "start_time": "2025-03-30T14:44:17.230747Z"
    }
   },
   "cell_type": "code",
   "source": [
    "# Get best values\n",
    "best_hps = tuner.get_best_hyperparameters(num_trials = 1)[0]\n",
    "\n",
    "hidden1_units = best_hps['hidden1_units']\n",
    "hidden2_units = best_hps['hidden2_units']\n",
    "learning_rate = best_hps['learning_rate']\n",
    "momentum = best_hps['momentum']\n",
    "batch = best_hps['batch']\n",
    "dropout = best_hps['dropout']\n",
    "dropout1 = best_hps['dropout1']\n",
    "\n",
    "# Build model\n",
    "model = models.Sequential()\n",
    "model.add(Embedding(max_words, epochs))\n",
    "\n",
    "model.add(LSTM(hidden1_units, return_sequences=True, kernel_initializer=GlorotUniform(seed=seed), activation='tanh', recurrent_activation='hard_sigmoid'))\n",
    "model.add(Dropout(dropout))\n",
    "\n",
    "model.add(LSTM(hidden2_units, kernel_initializer=GlorotUniform(seed=seed), activation='tanh', recurrent_activation='hard_sigmoid'))\n",
    "model.add(Dropout(dropout1))\n",
    "\n",
    "model.add(Dense(1, activation='sigmoid'))\n",
    "\n",
    "optimizer = SGD(learning_rate=learning_rate, momentum=momentum)\n",
    "\n",
    "model.compile(optimizer=optimizer, loss='binary_crossentropy', metrics=['acc'])\n",
    "\n",
    "model.summary()\n",
    "\n",
    "history = model.fit(X_train, y_train, epochs=epochs, batch_size=batch, validation_data=(X_validation,y_validation), callbacks=[early_stopping])\n",
    "\n",
    "print(f\"Hidden Layer 1 has {hidden1_units} units\")\n",
    "print(f\"Hidden Layer 2 has {hidden2_units} units\")\n",
    "print(f\"Optimizer learning rate = {learning_rate}\")\n",
    "print(f\"Optimizer batch size = {batch}\")\n",
    "print(f\"Optimizer momentum = {momentum}\")"
   ],
   "id": "3fb1cc102d551e4",
   "outputs": [
    {
     "ename": "KeyError",
     "evalue": "'dropout1 does not exist.'",
     "output_type": "error",
     "traceback": [
      "\u001B[31m---------------------------------------------------------------------------\u001B[39m",
      "\u001B[31mKeyError\u001B[39m                                  Traceback (most recent call last)",
      "\u001B[36mCell\u001B[39m\u001B[36m \u001B[39m\u001B[32mIn[7]\u001B[39m\u001B[32m, line 10\u001B[39m\n\u001B[32m      8\u001B[39m batch = best_hps[\u001B[33m'\u001B[39m\u001B[33mbatch\u001B[39m\u001B[33m'\u001B[39m]\n\u001B[32m      9\u001B[39m dropout = best_hps[\u001B[33m'\u001B[39m\u001B[33mdropout\u001B[39m\u001B[33m'\u001B[39m]\n\u001B[32m---> \u001B[39m\u001B[32m10\u001B[39m dropout1 = \u001B[43mbest_hps\u001B[49m\u001B[43m[\u001B[49m\u001B[33;43m'\u001B[39;49m\u001B[33;43mdropout1\u001B[39;49m\u001B[33;43m'\u001B[39;49m\u001B[43m]\u001B[49m\n\u001B[32m     12\u001B[39m \u001B[38;5;66;03m# Build model\u001B[39;00m\n\u001B[32m     13\u001B[39m model = models.Sequential()\n",
      "\u001B[36mFile \u001B[39m\u001B[32m~\\Desktop\\Uni\\2 Semestre\\SI\\Apof\\Aula 3\\.venv\\Lib\\site-packages\\keras_tuner\\src\\engine\\hyperparameters\\hyperparameters.py:249\u001B[39m, in \u001B[36mHyperParameters.__getitem__\u001B[39m\u001B[34m(self, name)\u001B[39m\n\u001B[32m    248\u001B[39m \u001B[38;5;28;01mdef\u001B[39;00m\u001B[38;5;250m \u001B[39m\u001B[34m__getitem__\u001B[39m(\u001B[38;5;28mself\u001B[39m, name):\n\u001B[32m--> \u001B[39m\u001B[32m249\u001B[39m     \u001B[38;5;28;01mreturn\u001B[39;00m \u001B[38;5;28;43mself\u001B[39;49m\u001B[43m.\u001B[49m\u001B[43mget\u001B[49m\u001B[43m(\u001B[49m\u001B[43mname\u001B[49m\u001B[43m)\u001B[49m\n",
      "\u001B[36mFile \u001B[39m\u001B[32m~\\Desktop\\Uni\\2 Semestre\\SI\\Apof\\Aula 3\\.venv\\Lib\\site-packages\\keras_tuner\\src\\engine\\hyperparameters\\hyperparameters.py:246\u001B[39m, in \u001B[36mHyperParameters.get\u001B[39m\u001B[34m(self, name)\u001B[39m\n\u001B[32m    244\u001B[39m     \u001B[38;5;28;01mraise\u001B[39;00m \u001B[38;5;167;01mValueError\u001B[39;00m(\u001B[33mf\u001B[39m\u001B[33m\"\u001B[39m\u001B[38;5;132;01m{\u001B[39;00mname\u001B[38;5;132;01m}\u001B[39;00m\u001B[33m is currently inactive.\u001B[39m\u001B[33m\"\u001B[39m)\n\u001B[32m    245\u001B[39m \u001B[38;5;28;01melse\u001B[39;00m:\n\u001B[32m--> \u001B[39m\u001B[32m246\u001B[39m     \u001B[38;5;28;01mraise\u001B[39;00m \u001B[38;5;167;01mKeyError\u001B[39;00m(\u001B[33mf\u001B[39m\u001B[33m\"\u001B[39m\u001B[38;5;132;01m{\u001B[39;00mname\u001B[38;5;132;01m}\u001B[39;00m\u001B[33m does not exist.\u001B[39m\u001B[33m\"\u001B[39m)\n",
      "\u001B[31mKeyError\u001B[39m: 'dropout1 does not exist.'"
     ]
    }
   ],
   "execution_count": 7
  },
  {
   "metadata": {
    "ExecuteTime": {
     "end_time": "2025-03-30T14:44:18.267804800Z",
     "start_time": "2025-03-30T14:04:29.356353Z"
    }
   },
   "cell_type": "code",
   "source": [
    "# Plot curves\n",
    "\n",
    "history_dict = history.history\n",
    "acc_values = history_dict['acc']\n",
    "val_acc_values = history_dict['val_acc']\n",
    "epochs = range(1, len(acc_values) + 1)\n",
    "\n",
    "plt.plot(epochs, acc_values, 'bo', label='Training acc')\n",
    "plt.plot(epochs, val_acc_values, 'b', label='Validation acc')\n",
    "plt.title('Training and validation accuracy')\n",
    "plt.xlabel('Epochs')\n",
    "plt.ylabel('Acc')\n",
    "plt.legend()\n",
    "plt.show()\n",
    "\n",
    "# Plot loss curves\n",
    "\n",
    "loss_values = history_dict['loss']\n",
    "val_loss_values = history_dict['val_loss']\n",
    "\n",
    "plt.plot(epochs, loss_values, 'bo', label='Training loss')\n",
    "plt.plot(epochs, val_loss_values, 'b', label='Validation loss')\n",
    "plt.title('Training and validation loss')\n",
    "plt.xlabel('Epochs')\n",
    "plt.ylabel('Loss')\n",
    "plt.legend()\n",
    "plt.show()"
   ],
   "id": "62c8eb19688dabc6",
   "outputs": [
    {
     "data": {
      "text/plain": [
       "<Figure size 640x480 with 1 Axes>"
      ],
      "image/png": "[encoded data removed]"
     },
     "metadata": {},
     "output_type": "display_data"
    },
    {
     "data": {
      "text/plain": [
       "<Figure size 640x480 with 1 Axes>"
      ],
      "image/png": "[encoded data removed]"
     },
     "metadata": {},
     "output_type": "display_data"
    }
   ],
   "execution_count": 8
  },
  {
   "metadata": {
    "ExecuteTime": {
     "end_time": "2025-03-30T14:44:18.277803300Z",
     "start_time": "2025-03-30T14:04:29.720183Z"
    }
   },
   "cell_type": "code",
   "source": [
    "# Predict output\n",
    "\n",
    "output = model.predict(X_test)\n",
    "\n",
    "if y_test is not None:\n",
    "    # Evaluate Model\n",
    "\n",
    "    print(model.evaluate(X_test, y_test))"
   ],
   "id": "eb54af7812fae6f1",
   "outputs": [
    {
     "name": "stdout",
     "output_type": "stream",
     "text": [
      "\u001B[1m5/5\u001B[0m \u001B[32m━━━━━━━━━━━━━━━━━━━━\u001B[0m\u001B[37m\u001B[0m \u001B[1m1s\u001B[0m 80ms/step\n",
      "\u001B[1m5/5\u001B[0m \u001B[32m━━━━━━━━━━━━━━━━━━━━\u001B[0m\u001B[37m\u001B[0m \u001B[1m0s\u001B[0m 18ms/step - acc: 0.4796 - loss: 0.6901\n",
      "[0.688954770565033, 0.4923076927661896]\n"
     ]
    }
   ],
   "execution_count": 9
  },
  {
   "metadata": {
    "ExecuteTime": {
     "end_time": "2025-03-30T14:44:18.278804900Z",
     "start_time": "2025-03-30T14:04:30.666525Z"
    }
   },
   "cell_type": "code",
   "source": [
    "# Store output\n",
    "\n",
    "results_filepath = './Results/embedding_lstm_results.csv'\n",
    "\n",
    "# Ensure the directory exists\n",
    "os.makedirs(os.path.dirname(results_filepath), exist_ok=True)\n",
    "\n",
    "results = dataset.merge_results(ids, output)\n",
    "results.to_csv(results_filepath, sep='\\t', index=False)"
   ],
   "id": "72f5ce090b0d9ce5",
   "outputs": [],
   "execution_count": 10
  },
  {
   "metadata": {
    "ExecuteTime": {
     "end_time": "2025-03-30T14:44:18.279636700Z",
     "start_time": "2025-03-30T14:04:30.707640Z"
    }
   },
   "cell_type": "code",
   "source": [
    "# Store network model\n",
    "\n",
    "model_filepath = './Model/embedding_lstm'\n",
    "model_key = 'embedding_lstm'\n",
    "\n",
    "store_model.store_model(model_filepath, model_key, model)"
   ],
   "id": "339ceb22be564264",
   "outputs": [],
   "execution_count": 11
  },
  {
   "metadata": {
    "ExecuteTime": {
     "end_time": "2025-03-30T14:44:18.280642500Z",
     "start_time": "2025-03-30T14:04:30.819062Z"
    }
   },
   "cell_type": "code",
   "source": [
    "# Retrieve network model\n",
    "\n",
    "model_filepath = './Model/embedding_lstm'\n",
    "model_key = 'embedding_lstm'\n",
    "\n",
    "model = store_model.retrieve_model(model_filepath, model_key)"
   ],
   "id": "44556d02c29048cc",
   "outputs": [],
   "execution_count": 12
  },
  {
   "metadata": {
    "ExecuteTime": {
     "end_time": "2025-03-30T14:44:18.280642500Z",
     "start_time": "2025-03-30T14:04:30.938461Z"
    }
   },
   "cell_type": "code",
   "source": [
    "dataset.set_dataset_test('../../Dataset/dataset1_inputs.csv', '../../Dataset/dataset1_outputs.csv')\n",
    "\n",
    "X_test, y_test, ids = dataset.get_test_dataset_unprocessed('Text', 'Label', sep='\\t', rem_punctuation=False)\n",
    "\n",
    "X_test = tokenizer.texts_to_sequences(X_test.iloc[:, 0])\n",
    "X_test = preprocessing.sequence.pad_sequences(X_test, maxlen=max_len)"
   ],
   "id": "a7261d1e2a30aafa",
   "outputs": [],
   "execution_count": 13
  }
 ],
 "metadata": {
  "kernelspec": {
   "display_name": "Python 3",
   "language": "python",
   "name": "python3"
  },
  "language_info": {
   "codemirror_mode": {
    "name": "ipython",
    "version": 2
   },
   "file_extension": ".py",
   "mimetype": "text/x-python",
   "name": "python",
   "nbconvert_exporter": "python",
   "pygments_lexer": "ipython2",
   "version": "2.7.6"
  }
 },
 "nbformat": 4,
 "nbformat_minor": 5
}
