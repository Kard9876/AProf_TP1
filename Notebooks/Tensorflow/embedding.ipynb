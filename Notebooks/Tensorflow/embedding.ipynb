{
 "cells": [
  {
   "cell_type": "code",
   "id": "initial_id",
   "metadata": {
    "collapsed": true,
    "ExecuteTime": {
     "end_time": "2025-03-11T17:05:45.213707Z",
     "start_time": "2025-03-11T17:05:34.098894Z"
    }
   },
   "source": [
    "# Import needed libraries and classes\n",
    "\n",
    "import os\n",
    "\n",
    "import matplotlib.pyplot as plt\n",
    "\n",
    "from Code.utils.dataset import Dataset\n",
    "import Code.utils.store_model as store_model\n",
    "\n",
    "from tensorflow.keras import preprocessing\n",
    "from tensorflow.keras.models import Sequential\n",
    "from tensorflow.keras.layers import Flatten, Dense\n",
    "from tensorflow.keras.layers import Embedding, Input\n",
    "\n",
    "# TODO posso usar Tokenizer?\n",
    "from tensorflow.keras.preprocessing.text import Tokenizer"
   ],
   "outputs": [],
   "execution_count": 1
  },
  {
   "metadata": {
    "ExecuteTime": {
     "end_time": "2025-03-11T17:05:50.743109Z",
     "start_time": "2025-03-11T17:05:45.224610Z"
    }
   },
   "cell_type": "code",
   "source": [
    "# Load datasets\n",
    "\n",
    "dataset = Dataset('../../Dataset/DatasetsGerados/dataset_training_input.csv',\n",
    "                  '../../Dataset/DatasetsGerados/dataset_training_output.csv',\n",
    "                  '../../Dataset/DatasetsGerados/dataset_validation_input.csv',\n",
    "                  '../../Dataset/DatasetsGerados/dataset_validation_output.csv',\n",
    "                  '../../Dataset/DatasetsGerados/dataset_test_input.csv',\n",
    "                  '../../Dataset/DatasetsGerados/dataset_test_output.csv')\n",
    "\n",
    "X_train, y_train, X_validation, y_validation, X_test, y_test, ids = dataset.get_datasets_embedding('Text', 'Label', sep='\\t', rem_punctuation=True)\n",
    "\n",
    "max_words = 10000\n",
    "max_len = 500\n",
    "\n",
    "# print(X_train.iloc[0, 0])\n",
    "# print(X_train.shape)\n",
    "\n",
    "tokenizer = Tokenizer(num_words=max_words)  # limit to top max_words words\n",
    "tokenizer.fit_on_texts(X_train.iloc[:, 0])\n",
    "\n",
    "X_train = tokenizer.texts_to_sequences(X_train.iloc[:, 0])\n",
    "X_validation = tokenizer.texts_to_sequences(X_validation.iloc[:, 0])\n",
    "X_test = tokenizer.texts_to_sequences(X_test.iloc[:, 0])\n",
    "\n",
    "X_train = preprocessing.sequence.pad_sequences(X_train, maxlen=max_len)\n",
    "X_validation = preprocessing.sequence.pad_sequences(X_validation, maxlen=max_len)\n",
    "X_test = preprocessing.sequence.pad_sequences(X_test, maxlen=max_len)\n",
    "\n",
    "# print(X_train[0])\n",
    "# print(X_train.shape)\n",
    "\n",
    "print(y_train)"
   ],
   "id": "ff750e530e54cd62",
   "outputs": [
    {
     "name": "stdout",
     "output_type": "stream",
     "text": [
      "[1 0 1 ... 0 1 0]\n"
     ]
    }
   ],
   "execution_count": 2
  },
  {
   "metadata": {
    "ExecuteTime": {
     "end_time": "2025-03-11T17:06:01.614069Z",
     "start_time": "2025-03-11T17:05:51.158070Z"
    }
   },
   "cell_type": "code",
   "source": [
    "# Build model\n",
    "\n",
    "dim_embed = 20\n",
    "model = Sequential()\n",
    "model.add(Input((max_len,)))\n",
    "model.add(Embedding(max_words, dim_embed))\n",
    "model.add(Flatten())\n",
    "model.add(Dense(1, activation='sigmoid'))\n",
    "\n",
    "model.compile(optimizer='rmsprop', loss='binary_crossentropy', metrics=['acc'])\n",
    "model.summary()\n",
    "\n",
    "history = model.fit(X_train, y_train, epochs=5, batch_size=32, validation_data=(X_test,y_test))"
   ],
   "id": "9232c2c597557d2b",
   "outputs": [
    {
     "data": {
      "text/plain": [
       "\u001B[1mModel: \"sequential\"\u001B[0m\n"
      ],
      "text/html": [
       "<pre style=\"white-space:pre;overflow-x:auto;line-height:normal;font-family:Menlo,'DejaVu Sans Mono',consolas,'Courier New',monospace\"><span style=\"font-weight: bold\">Model: \"sequential\"</span>\n",
       "</pre>\n"
      ]
     },
     "metadata": {},
     "output_type": "display_data"
    },
    {
     "data": {
      "text/plain": [
       "┏━━━━━━━━━━━━━━━━━━━━━━━━━━━━━━━━━┳━━━━━━━━━━━━━━━━━━━━━━━━┳━━━━━━━━━━━━━━━┓\n",
       "┃\u001B[1m \u001B[0m\u001B[1mLayer (type)                   \u001B[0m\u001B[1m \u001B[0m┃\u001B[1m \u001B[0m\u001B[1mOutput Shape          \u001B[0m\u001B[1m \u001B[0m┃\u001B[1m \u001B[0m\u001B[1m      Param #\u001B[0m\u001B[1m \u001B[0m┃\n",
       "┡━━━━━━━━━━━━━━━━━━━━━━━━━━━━━━━━━╇━━━━━━━━━━━━━━━━━━━━━━━━╇━━━━━━━━━━━━━━━┩\n",
       "│ embedding (\u001B[38;5;33mEmbedding\u001B[0m)           │ (\u001B[38;5;45mNone\u001B[0m, \u001B[38;5;34m500\u001B[0m, \u001B[38;5;34m20\u001B[0m)        │       \u001B[38;5;34m200,000\u001B[0m │\n",
       "├─────────────────────────────────┼────────────────────────┼───────────────┤\n",
       "│ flatten (\u001B[38;5;33mFlatten\u001B[0m)               │ (\u001B[38;5;45mNone\u001B[0m, \u001B[38;5;34m10000\u001B[0m)          │             \u001B[38;5;34m0\u001B[0m │\n",
       "├─────────────────────────────────┼────────────────────────┼───────────────┤\n",
       "│ dense (\u001B[38;5;33mDense\u001B[0m)                   │ (\u001B[38;5;45mNone\u001B[0m, \u001B[38;5;34m1\u001B[0m)              │        \u001B[38;5;34m10,001\u001B[0m │\n",
       "└─────────────────────────────────┴────────────────────────┴───────────────┘\n"
      ],
      "text/html": [
       "<pre style=\"white-space:pre;overflow-x:auto;line-height:normal;font-family:Menlo,'DejaVu Sans Mono',consolas,'Courier New',monospace\">┏━━━━━━━━━━━━━━━━━━━━━━━━━━━━━━━━━┳━━━━━━━━━━━━━━━━━━━━━━━━┳━━━━━━━━━━━━━━━┓\n",
       "┃<span style=\"font-weight: bold\"> Layer (type)                    </span>┃<span style=\"font-weight: bold\"> Output Shape           </span>┃<span style=\"font-weight: bold\">       Param # </span>┃\n",
       "┡━━━━━━━━━━━━━━━━━━━━━━━━━━━━━━━━━╇━━━━━━━━━━━━━━━━━━━━━━━━╇━━━━━━━━━━━━━━━┩\n",
       "│ embedding (<span style=\"color: #0087ff; text-decoration-color: #0087ff\">Embedding</span>)           │ (<span style=\"color: #00d7ff; text-decoration-color: #00d7ff\">None</span>, <span style=\"color: #00af00; text-decoration-color: #00af00\">500</span>, <span style=\"color: #00af00; text-decoration-color: #00af00\">20</span>)        │       <span style=\"color: #00af00; text-decoration-color: #00af00\">200,000</span> │\n",
       "├─────────────────────────────────┼────────────────────────┼───────────────┤\n",
       "│ flatten (<span style=\"color: #0087ff; text-decoration-color: #0087ff\">Flatten</span>)               │ (<span style=\"color: #00d7ff; text-decoration-color: #00d7ff\">None</span>, <span style=\"color: #00af00; text-decoration-color: #00af00\">10000</span>)          │             <span style=\"color: #00af00; text-decoration-color: #00af00\">0</span> │\n",
       "├─────────────────────────────────┼────────────────────────┼───────────────┤\n",
       "│ dense (<span style=\"color: #0087ff; text-decoration-color: #0087ff\">Dense</span>)                   │ (<span style=\"color: #00d7ff; text-decoration-color: #00d7ff\">None</span>, <span style=\"color: #00af00; text-decoration-color: #00af00\">1</span>)              │        <span style=\"color: #00af00; text-decoration-color: #00af00\">10,001</span> │\n",
       "└─────────────────────────────────┴────────────────────────┴───────────────┘\n",
       "</pre>\n"
      ]
     },
     "metadata": {},
     "output_type": "display_data"
    },
    {
     "data": {
      "text/plain": [
       "\u001B[1m Total params: \u001B[0m\u001B[38;5;34m210,001\u001B[0m (820.32 KB)\n"
      ],
      "text/html": [
       "<pre style=\"white-space:pre;overflow-x:auto;line-height:normal;font-family:Menlo,'DejaVu Sans Mono',consolas,'Courier New',monospace\"><span style=\"font-weight: bold\"> Total params: </span><span style=\"color: #00af00; text-decoration-color: #00af00\">210,001</span> (820.32 KB)\n",
       "</pre>\n"
      ]
     },
     "metadata": {},
     "output_type": "display_data"
    },
    {
     "data": {
      "text/plain": [
       "\u001B[1m Trainable params: \u001B[0m\u001B[38;5;34m210,001\u001B[0m (820.32 KB)\n"
      ],
      "text/html": [
       "<pre style=\"white-space:pre;overflow-x:auto;line-height:normal;font-family:Menlo,'DejaVu Sans Mono',consolas,'Courier New',monospace\"><span style=\"font-weight: bold\"> Trainable params: </span><span style=\"color: #00af00; text-decoration-color: #00af00\">210,001</span> (820.32 KB)\n",
       "</pre>\n"
      ]
     },
     "metadata": {},
     "output_type": "display_data"
    },
    {
     "data": {
      "text/plain": [
       "\u001B[1m Non-trainable params: \u001B[0m\u001B[38;5;34m0\u001B[0m (0.00 B)\n"
      ],
      "text/html": [
       "<pre style=\"white-space:pre;overflow-x:auto;line-height:normal;font-family:Menlo,'DejaVu Sans Mono',consolas,'Courier New',monospace\"><span style=\"font-weight: bold\"> Non-trainable params: </span><span style=\"color: #00af00; text-decoration-color: #00af00\">0</span> (0.00 B)\n",
       "</pre>\n"
      ]
     },
     "metadata": {},
     "output_type": "display_data"
    },
    {
     "name": "stdout",
     "output_type": "stream",
     "text": [
      "Epoch 1/5\n",
      "\u001B[1m188/188\u001B[0m \u001B[32m━━━━━━━━━━━━━━━━━━━━\u001B[0m\u001B[37m\u001B[0m \u001B[1m3s\u001B[0m 10ms/step - acc: 0.8739 - loss: 0.3050 - val_acc: 0.9785 - val_loss: 0.0674\n",
      "Epoch 2/5\n",
      "\u001B[1m188/188\u001B[0m \u001B[32m━━━━━━━━━━━━━━━━━━━━\u001B[0m\u001B[37m\u001B[0m \u001B[1m2s\u001B[0m 9ms/step - acc: 0.9961 - loss: 0.0212 - val_acc: 0.9965 - val_loss: 0.0163\n",
      "Epoch 3/5\n",
      "\u001B[1m188/188\u001B[0m \u001B[32m━━━━━━━━━━━━━━━━━━━━\u001B[0m\u001B[37m\u001B[0m \u001B[1m2s\u001B[0m 9ms/step - acc: 0.9967 - loss: 0.0102 - val_acc: 0.9970 - val_loss: 0.0116\n",
      "Epoch 4/5\n",
      "\u001B[1m188/188\u001B[0m \u001B[32m━━━━━━━━━━━━━━━━━━━━\u001B[0m\u001B[37m\u001B[0m \u001B[1m2s\u001B[0m 9ms/step - acc: 0.9986 - loss: 0.0056 - val_acc: 0.9965 - val_loss: 0.0127\n",
      "Epoch 5/5\n",
      "\u001B[1m188/188\u001B[0m \u001B[32m━━━━━━━━━━━━━━━━━━━━\u001B[0m\u001B[37m\u001B[0m \u001B[1m2s\u001B[0m 9ms/step - acc: 0.9991 - loss: 0.0031 - val_acc: 0.9965 - val_loss: 0.0108\n"
     ]
    }
   ],
   "execution_count": 3
  },
  {
   "metadata": {
    "ExecuteTime": {
     "end_time": "2025-03-11T17:06:02.192034Z",
     "start_time": "2025-03-11T17:06:01.633929Z"
    }
   },
   "cell_type": "code",
   "source": [
    "# Plot curves\n",
    "\n",
    "history_dict = history.history\n",
    "acc_values = history_dict['acc']\n",
    "val_acc_values = history_dict['val_acc']\n",
    "epochs = range(1, len(acc_values) + 1)\n",
    "\n",
    "plt.plot(epochs, acc_values, 'bo', label='Training acc')\n",
    "plt.plot(epochs, val_acc_values, 'b', label='Validation acc')\n",
    "plt.title('Training and validation accuracy')\n",
    "plt.xlabel('Epochs')\n",
    "plt.ylabel('Acc')\n",
    "plt.legend()\n",
    "plt.show()\n",
    "\n",
    "# Plot loss curves\n",
    "\n",
    "loss_values = history_dict['loss']\n",
    "val_loss_values = history_dict['val_loss']\n",
    "\n",
    "plt.plot(epochs, loss_values, 'bo', label='Training loss')\n",
    "plt.plot(epochs, val_loss_values, 'b', label='Validation loss')\n",
    "plt.title('Training and validation loss')\n",
    "plt.xlabel('Epochs')\n",
    "plt.ylabel('Loss')\n",
    "plt.legend()\n",
    "plt.show()"
   ],
   "id": "3a5943d8d0b1a37c",
   "outputs": [
    {
     "data": {
      "text/plain": [
       "<Figure size 640x480 with 1 Axes>"
      ],
      "image/png": "[encoded data removed]"
     },
     "metadata": {},
     "output_type": "display_data"
    },
    {
     "data": {
      "text/plain": [
       "<Figure size 640x480 with 1 Axes>"
      ],
      "image/png": "[encoded data removed]"
     },
     "metadata": {},
     "output_type": "display_data"
    }
   ],
   "execution_count": 4
  },
  {
   "metadata": {
    "ExecuteTime": {
     "end_time": "2025-03-11T17:06:02.525012Z",
     "start_time": "2025-03-11T17:06:02.243935Z"
    }
   },
   "cell_type": "code",
   "source": [
    "# Evaluate Model\n",
    "\n",
    "results = model.evaluate(X_test, y_test, verbose = 0)\n",
    "print(results)"
   ],
   "id": "2713c674feac7189",
   "outputs": [
    {
     "name": "stdout",
     "output_type": "stream",
     "text": [
      "[0.01082947850227356, 0.9965000152587891]\n"
     ]
    }
   ],
   "execution_count": 5
  },
  {
   "metadata": {
    "ExecuteTime": {
     "end_time": "2025-03-11T17:06:03.159523Z",
     "start_time": "2025-03-11T17:06:02.554569Z"
    }
   },
   "cell_type": "code",
   "source": [
    "# Predict output\n",
    "\n",
    "output = model.predict(X_test)"
   ],
   "id": "b18eac99cbc976f8",
   "outputs": [
    {
     "name": "stdout",
     "output_type": "stream",
     "text": [
      "\u001B[1m63/63\u001B[0m \u001B[32m━━━━━━━━━━━━━━━━━━━━\u001B[0m\u001B[37m\u001B[0m \u001B[1m0s\u001B[0m 6ms/step\n"
     ]
    }
   ],
   "execution_count": 6
  },
  {
   "metadata": {
    "ExecuteTime": {
     "end_time": "2025-03-11T17:06:03.199805Z",
     "start_time": "2025-03-11T17:06:03.167749Z"
    }
   },
   "cell_type": "code",
   "source": [
    "# Store output\n",
    "\n",
    "results_filepath = './Results/embedding_results.csv'\n",
    "\n",
    "# Ensure the directory exists\n",
    "os.makedirs(os.path.dirname(results_filepath), exist_ok=True)\n",
    "\n",
    "results = dataset.merge_results(ids, output)\n",
    "results.to_csv(results_filepath, sep='\\t', index=False)"
   ],
   "id": "db189249db952f07",
   "outputs": [],
   "execution_count": 7
  },
  {
   "metadata": {
    "ExecuteTime": {
     "end_time": "2025-03-11T17:06:03.320722Z",
     "start_time": "2025-03-11T17:06:03.227640Z"
    }
   },
   "cell_type": "code",
   "source": [
    "# Store network model\n",
    "\n",
    "model_filepath = './Model/embedding'\n",
    "model_key = 'embedding'\n",
    "\n",
    "store_model.store_model(model_filepath, model_key, model)"
   ],
   "id": "f78ba5aa8f37034",
   "outputs": [],
   "execution_count": 8
  },
  {
   "metadata": {
    "ExecuteTime": {
     "end_time": "2025-03-11T17:06:03.455211Z",
     "start_time": "2025-03-11T17:06:03.346531Z"
    }
   },
   "cell_type": "code",
   "source": [
    "# Retrieve network model\n",
    "\n",
    "model_filepath = './Model/embedding'\n",
    "model_key = 'embedding'\n",
    "\n",
    "model = store_model.retrieve_model(model_filepath, model_key)"
   ],
   "id": "888455b9a94341d",
   "outputs": [],
   "execution_count": 9
  }
 ],
 "metadata": {
  "kernelspec": {
   "display_name": "Python 3",
   "language": "python",
   "name": "python3"
  },
  "language_info": {
   "codemirror_mode": {
    "name": "ipython",
    "version": 2
   },
   "file_extension": ".py",
   "mimetype": "text/x-python",
   "name": "python",
   "nbconvert_exporter": "python",
   "pygments_lexer": "ipython2",
   "version": "2.7.6"
  }
 },
 "nbformat": 4,
 "nbformat_minor": 5
}
