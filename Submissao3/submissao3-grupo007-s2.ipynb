{
 "cells": [
  {
   "metadata": {
    "ExecuteTime": {
     "end_time": "2025-03-23T21:44:10.393992Z",
     "start_time": "2025-03-23T21:44:05.749876Z"
    }
   },
   "cell_type": "code",
   "source": [
    "# Import needed libraries and classes\n",
    "\n",
    "import os\n",
    "import random\n",
    "import numpy as np\n",
    "\n",
    "from Code.utils.dataset import Dataset\n",
    "\n",
    "import tensorflow as tf\n",
    "from tensorflow.keras import preprocessing\n",
    "from tensorflow.keras.models import Sequential\n",
    "from tensorflow.keras.layers import Flatten, Dense\n",
    "from tensorflow.keras.layers import Embedding, Input\n",
    "from tensorflow.keras import models, initializers\n",
    "\n",
    "from tensorflow.keras.preprocessing.text import Tokenizer"
   ],
   "id": "853bb71df153f714",
   "outputs": [
    {
     "name": "stderr",
     "output_type": "stream",
     "text": [
      "[nltk_data] Downloading package punkt to C:\\Users\\Guilherme\n",
      "[nltk_data]     Barbosa\\AppData\\Roaming\\nltk_data...\n",
      "[nltk_data]   Package punkt is already up-to-date!\n"
     ]
    }
   ],
   "execution_count": 1
  },
  {
   "metadata": {
    "ExecuteTime": {
     "end_time": "2025-03-23T21:44:10.402019Z",
     "start_time": "2025-03-23T21:44:10.395497Z"
    }
   },
   "cell_type": "code",
   "source": [
    "# Set random seed to control randomness\n",
    "\n",
    "os.environ['TF_DETERMINISTIC_OPS'] = '1'\n",
    "\n",
    "seed_value = 42\n",
    "np.random.seed(seed_value)\n",
    "tf.random.set_seed(seed_value)\n",
    "random.seed(666)"
   ],
   "id": "4dcead25fa1a37c1",
   "outputs": [],
   "execution_count": 2
  },
  {
   "metadata": {
    "ExecuteTime": {
     "end_time": "2025-03-23T21:44:10.967195Z",
     "start_time": "2025-03-23T21:44:10.548665Z"
    }
   },
   "cell_type": "code",
   "source": [
    "# Load datasets\n",
    "\n",
    "dataset = Dataset('../Dataset/DatasetsGerados/dataset_training_input.csv',\n",
    "                  '../Dataset/DatasetsGerados/dataset_training_output.csv',\n",
    "                  '../Dataset/DatasetsGerados/dataset_validation_input.csv',\n",
    "                  '../Dataset/DatasetsGerados/dataset_validation_output.csv',\n",
    "                  '../Dataset/dataset3_inputs.csv',\n",
    "                  None)\n",
    "\n",
    "X_train, y_train, X_validation, y_validation, X_test, y_test, ids = dataset.get_datasets_unprocessed('Text', 'Label', sep='\\t', rem_punctuation=True)\n",
    "\n",
    "max_words = 15000\n",
    "max_len = 500\n",
    "\n",
    "tokenizer = Tokenizer(num_words=max_words)  # limit to top max_words words\n",
    "tokenizer.fit_on_texts(X_train.iloc[:, 0])\n",
    "\n",
    "X_train = tokenizer.texts_to_sequences(X_train.iloc[:, 0])\n",
    "X_validation = tokenizer.texts_to_sequences(X_validation.iloc[:, 0])\n",
    "X_test = tokenizer.texts_to_sequences(X_test.iloc[:, 0])\n",
    "\n",
    "X_train = preprocessing.sequence.pad_sequences(X_train, maxlen=max_len)\n",
    "X_validation = preprocessing.sequence.pad_sequences(X_validation, maxlen=max_len)\n",
    "X_test = preprocessing.sequence.pad_sequences(X_test, maxlen=max_len)"
   ],
   "id": "9e8498de4f781178",
   "outputs": [],
   "execution_count": 3
  },
  {
   "metadata": {
    "ExecuteTime": {
     "end_time": "2025-03-23T21:44:42.965166Z",
     "start_time": "2025-03-23T21:44:10.973890Z"
    }
   },
   "cell_type": "code",
   "source": [
    "# Build Model\n",
    "\n",
    "dim_embed = 100\n",
    "model = Sequential()\n",
    "model.add(Input((X_train.shape[1],)))\n",
    "model.add(Embedding(max_words, dim_embed, embeddings_initializer=initializers.GlorotUniform(seed=44)))\n",
    "model.add(Flatten())\n",
    "model.add(Dense(8, activation='relu'))\n",
    "model.add(Dense(16, activation='relu'))\n",
    "model.add(Dense(1, activation='sigmoid'))\n",
    "\n",
    "model.compile(optimizer='rmsprop', loss='binary_crossentropy', metrics=['acc'])\n",
    "\n",
    "history = model.fit(X_train, y_train, epochs=20, batch_size=32, validation_data=(X_validation,y_validation))"
   ],
   "id": "c065c8e451617348",
   "outputs": [
    {
     "name": "stdout",
     "output_type": "stream",
     "text": [
      "Epoch 1/20\n",
      "\u001B[1m94/94\u001B[0m \u001B[32m━━━━━━━━━━━━━━━━━━━━\u001B[0m\u001B[37m\u001B[0m \u001B[1m2s\u001B[0m 18ms/step - acc: 0.4842 - loss: 0.6925 - val_acc: 0.5000 - val_loss: 0.6224\n",
      "Epoch 2/20\n",
      "\u001B[1m94/94\u001B[0m \u001B[32m━━━━━━━━━━━━━━━━━━━━\u001B[0m\u001B[37m\u001B[0m \u001B[1m2s\u001B[0m 17ms/step - acc: 0.8275 - loss: 0.3898 - val_acc: 0.9620 - val_loss: 0.0913\n",
      "Epoch 3/20\n",
      "\u001B[1m94/94\u001B[0m \u001B[32m━━━━━━━━━━━━━━━━━━━━\u001B[0m\u001B[37m\u001B[0m \u001B[1m2s\u001B[0m 17ms/step - acc: 0.9974 - loss: 0.0160 - val_acc: 0.9990 - val_loss: 0.0047\n",
      "Epoch 4/20\n",
      "\u001B[1m94/94\u001B[0m \u001B[32m━━━━━━━━━━━━━━━━━━━━\u001B[0m\u001B[37m\u001B[0m \u001B[1m2s\u001B[0m 16ms/step - acc: 1.0000 - loss: 0.0020 - val_acc: 1.0000 - val_loss: 0.0020\n",
      "Epoch 5/20\n",
      "\u001B[1m94/94\u001B[0m \u001B[32m━━━━━━━━━━━━━━━━━━━━\u001B[0m\u001B[37m\u001B[0m \u001B[1m2s\u001B[0m 16ms/step - acc: 1.0000 - loss: 3.8144e-04 - val_acc: 1.0000 - val_loss: 0.0013\n",
      "Epoch 6/20\n",
      "\u001B[1m94/94\u001B[0m \u001B[32m━━━━━━━━━━━━━━━━━━━━\u001B[0m\u001B[37m\u001B[0m \u001B[1m2s\u001B[0m 16ms/step - acc: 1.0000 - loss: 1.1761e-04 - val_acc: 1.0000 - val_loss: 0.0010\n",
      "Epoch 7/20\n",
      "\u001B[1m94/94\u001B[0m \u001B[32m━━━━━━━━━━━━━━━━━━━━\u001B[0m\u001B[37m\u001B[0m \u001B[1m1s\u001B[0m 16ms/step - acc: 1.0000 - loss: 4.9040e-05 - val_acc: 1.0000 - val_loss: 9.1817e-04\n",
      "Epoch 8/20\n",
      "\u001B[1m94/94\u001B[0m \u001B[32m━━━━━━━━━━━━━━━━━━━━\u001B[0m\u001B[37m\u001B[0m \u001B[1m2s\u001B[0m 16ms/step - acc: 1.0000 - loss: 2.5728e-05 - val_acc: 1.0000 - val_loss: 8.7417e-04\n",
      "Epoch 9/20\n",
      "\u001B[1m94/94\u001B[0m \u001B[32m━━━━━━━━━━━━━━━━━━━━\u001B[0m\u001B[37m\u001B[0m \u001B[1m2s\u001B[0m 17ms/step - acc: 1.0000 - loss: 1.5974e-05 - val_acc: 1.0000 - val_loss: 8.5902e-04\n",
      "Epoch 10/20\n",
      "\u001B[1m94/94\u001B[0m \u001B[32m━━━━━━━━━━━━━━━━━━━━\u001B[0m\u001B[37m\u001B[0m \u001B[1m2s\u001B[0m 16ms/step - acc: 1.0000 - loss: 1.1134e-05 - val_acc: 1.0000 - val_loss: 8.5632e-04\n",
      "Epoch 11/20\n",
      "\u001B[1m94/94\u001B[0m \u001B[32m━━━━━━━━━━━━━━━━━━━━\u001B[0m\u001B[37m\u001B[0m \u001B[1m2s\u001B[0m 17ms/step - acc: 1.0000 - loss: 8.3863e-06 - val_acc: 1.0000 - val_loss: 8.5803e-04\n",
      "Epoch 12/20\n",
      "\u001B[1m94/94\u001B[0m \u001B[32m━━━━━━━━━━━━━━━━━━━━\u001B[0m\u001B[37m\u001B[0m \u001B[1m2s\u001B[0m 18ms/step - acc: 1.0000 - loss: 6.6620e-06 - val_acc: 1.0000 - val_loss: 8.6028e-04\n",
      "Epoch 13/20\n",
      "\u001B[1m94/94\u001B[0m \u001B[32m━━━━━━━━━━━━━━━━━━━━\u001B[0m\u001B[37m\u001B[0m \u001B[1m2s\u001B[0m 17ms/step - acc: 1.0000 - loss: 5.4957e-06 - val_acc: 1.0000 - val_loss: 8.6134e-04\n",
      "Epoch 14/20\n",
      "\u001B[1m94/94\u001B[0m \u001B[32m━━━━━━━━━━━━━━━━━━━━\u001B[0m\u001B[37m\u001B[0m \u001B[1m1s\u001B[0m 16ms/step - acc: 1.0000 - loss: 4.6607e-06 - val_acc: 1.0000 - val_loss: 8.6083e-04\n",
      "Epoch 15/20\n",
      "\u001B[1m94/94\u001B[0m \u001B[32m━━━━━━━━━━━━━━━━━━━━\u001B[0m\u001B[37m\u001B[0m \u001B[1m1s\u001B[0m 16ms/step - acc: 1.0000 - loss: 4.0363e-06 - val_acc: 1.0000 - val_loss: 8.5875e-04\n",
      "Epoch 16/20\n",
      "\u001B[1m94/94\u001B[0m \u001B[32m━━━━━━━━━━━━━━━━━━━━\u001B[0m\u001B[37m\u001B[0m \u001B[1m2s\u001B[0m 16ms/step - acc: 1.0000 - loss: 3.5530e-06 - val_acc: 1.0000 - val_loss: 8.5522e-04\n",
      "Epoch 17/20\n",
      "\u001B[1m94/94\u001B[0m \u001B[32m━━━━━━━━━━━━━━━━━━━━\u001B[0m\u001B[37m\u001B[0m \u001B[1m1s\u001B[0m 16ms/step - acc: 1.0000 - loss: 3.1685e-06 - val_acc: 1.0000 - val_loss: 8.5089e-04\n",
      "Epoch 18/20\n",
      "\u001B[1m94/94\u001B[0m \u001B[32m━━━━━━━━━━━━━━━━━━━━\u001B[0m\u001B[37m\u001B[0m \u001B[1m1s\u001B[0m 16ms/step - acc: 1.0000 - loss: 2.8558e-06 - val_acc: 1.0000 - val_loss: 8.4583e-04\n",
      "Epoch 19/20\n",
      "\u001B[1m94/94\u001B[0m \u001B[32m━━━━━━━━━━━━━━━━━━━━\u001B[0m\u001B[37m\u001B[0m \u001B[1m1s\u001B[0m 16ms/step - acc: 1.0000 - loss: 2.5968e-06 - val_acc: 1.0000 - val_loss: 8.4023e-04\n",
      "Epoch 20/20\n",
      "\u001B[1m94/94\u001B[0m \u001B[32m━━━━━━━━━━━━━━━━━━━━\u001B[0m\u001B[37m\u001B[0m \u001B[1m2s\u001B[0m 16ms/step - acc: 1.0000 - loss: 2.3789e-06 - val_acc: 1.0000 - val_loss: 8.3445e-04\n"
     ]
    }
   ],
   "execution_count": 4
  },
  {
   "metadata": {
    "ExecuteTime": {
     "end_time": "2025-03-23T21:44:43.119086Z",
     "start_time": "2025-03-23T21:44:42.972154Z"
    }
   },
   "cell_type": "code",
   "source": [
    "# Predict test dataset\n",
    "\n",
    "out = model.predict(X_test)\n",
    "\n",
    "if y_test is not None:\n",
    "    print(model.evaluate(X_test, y_test))\n",
    "\n",
    "# Store results\n",
    "\n",
    "results_filepath = './submissao3-grupo007-s2.csv'\n",
    "\n",
    "# Ensure the directory exists\n",
    "os.makedirs(os.path.dirname(results_filepath), exist_ok=True)\n",
    "\n",
    "results = dataset.merge_results(ids, out)\n",
    "results.to_csv(results_filepath, sep='\\t', index=False)"
   ],
   "id": "3a67e6fe57bd54dc",
   "outputs": [
    {
     "name": "stdout",
     "output_type": "stream",
     "text": [
      "\u001B[1m4/4\u001B[0m \u001B[32m━━━━━━━━━━━━━━━━━━━━\u001B[0m\u001B[37m\u001B[0m \u001B[1m0s\u001B[0m 15ms/step\n"
     ]
    }
   ],
   "execution_count": 5
  }
 ],
 "metadata": {
  "kernelspec": {
   "display_name": "Python 3",
   "language": "python",
   "name": "python3"
  },
  "language_info": {
   "codemirror_mode": {
    "name": "ipython",
    "version": 2
   },
   "file_extension": ".py",
   "mimetype": "text/x-python",
   "name": "python",
   "nbconvert_exporter": "python",
   "pygments_lexer": "ipython2",
   "version": "2.7.6"
  }
 },
 "nbformat": 4,
 "nbformat_minor": 5
}
