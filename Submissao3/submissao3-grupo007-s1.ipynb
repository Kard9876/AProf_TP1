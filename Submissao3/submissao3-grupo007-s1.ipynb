{
 "cells": [
  {
   "metadata": {
    "ExecuteTime": {
     "end_time": "2025-03-23T20:20:16.689620Z",
     "start_time": "2025-03-23T20:20:11.781004Z"
    }
   },
   "cell_type": "code",
   "source": [
    "# Import necessary libraries and classes\n",
    "\n",
    "import os\n",
    "import random\n",
    "\n",
    "import numpy as np\n",
    "from keras.src.utils.module_utils import tensorflow\n",
    "\n",
    "from tensorflow.keras import models, layers, Input, optimizers\n",
    "\n",
    "from Code.utils.dataset import Dataset"
   ],
   "id": "9ea01dfa5c86abaa",
   "outputs": [
    {
     "name": "stderr",
     "output_type": "stream",
     "text": [
      "[nltk_data] Downloading package punkt to C:\\Users\\Guilherme\n",
      "[nltk_data]     Barbosa\\AppData\\Roaming\\nltk_data...\n",
      "[nltk_data]   Package punkt is already up-to-date!\n"
     ]
    }
   ],
   "execution_count": 1
  },
  {
   "metadata": {
    "ExecuteTime": {
     "end_time": "2025-03-23T20:20:16.700608Z",
     "start_time": "2025-03-23T20:20:16.696323Z"
    }
   },
   "cell_type": "code",
   "source": [
    "# Set random seed to control randomness\n",
    "\n",
    "np.random.seed(42)\n",
    "tensorflow.random.set_seed(42)\n",
    "random.seed(42)"
   ],
   "id": "4821610cceac2445",
   "outputs": [],
   "execution_count": 2
  },
  {
   "metadata": {
    "ExecuteTime": {
     "end_time": "2025-03-23T20:20:17.364359Z",
     "start_time": "2025-03-23T20:20:16.850227Z"
    }
   },
   "cell_type": "code",
   "source": [
    "# Load datasets\n",
    "\n",
    "dataset = Dataset('../Dataset/DatasetsGerados/dataset_training_input.csv',\n",
    "                  '../Dataset/DatasetsGerados/dataset_training_output.csv',\n",
    "                  '../Dataset/DatasetsGerados/dataset_validation_input.csv',\n",
    "                  '../Dataset/DatasetsGerados/dataset_validation_output.csv',\n",
    "                  '../Dataset/dataset3_inputs.csv',\n",
    "                  None)\n",
    "\n",
    "X_train, y_train, X_validation, y_validation, X_test, y_test, ids = dataset.get_datasets('Text', 'Label', sep='\\t', rem_punctuation=False)"
   ],
   "id": "e4644d8e99592596",
   "outputs": [],
   "execution_count": 3
  },
  {
   "metadata": {
    "ExecuteTime": {
     "end_time": "2025-03-23T20:20:32.844869Z",
     "start_time": "2025-03-23T20:20:17.364359Z"
    }
   },
   "cell_type": "code",
   "source": [
    "n_features = X_train.shape[1]\n",
    "\n",
    "hidden1_units = 38\n",
    "hidden2_units = 27\n",
    "hidden3_units = 31\n",
    "hidden4_units = 21\n",
    "\n",
    "model = models.Sequential()\n",
    "model.add(Input((n_features,)))\n",
    "model.add(layers.Dense(hidden1_units, activation='relu'))\n",
    "model.add(layers.Dense(hidden2_units, activation='sigmoid'))\n",
    "model.add(layers.Dense(hidden3_units, activation='relu'))\n",
    "model.add(layers.Dense(hidden4_units, activation='sigmoid'))\n",
    "model.add(layers.Dense(1, activation='sigmoid'))\n",
    "\n",
    "# Tune the learning rate\n",
    "optimizer = optimizers.Adam(learning_rate=0.0001)\n",
    "model.compile(optimizer=optimizer, loss='binary_crossentropy', metrics=['acc'])\n",
    "\n",
    "history = model.fit(X_train, y_train, epochs=20, batch_size=24, validation_data=(X_validation, y_validation))"
   ],
   "id": "ca2570308fb1eb5e",
   "outputs": [
    {
     "name": "stdout",
     "output_type": "stream",
     "text": [
      "Epoch 1/20\n",
      "\u001B[1m125/125\u001B[0m \u001B[32m━━━━━━━━━━━━━━━━━━━━\u001B[0m\u001B[37m\u001B[0m \u001B[1m2s\u001B[0m 6ms/step - acc: 0.4898 - loss: 0.7208 - val_acc: 0.5000 - val_loss: 0.6387\n",
      "Epoch 2/20\n",
      "\u001B[1m125/125\u001B[0m \u001B[32m━━━━━━━━━━━━━━━━━━━━\u001B[0m\u001B[37m\u001B[0m \u001B[1m1s\u001B[0m 5ms/step - acc: 0.6251 - loss: 0.6054 - val_acc: 0.9880 - val_loss: 0.4819\n",
      "Epoch 3/20\n",
      "\u001B[1m125/125\u001B[0m \u001B[32m━━━━━━━━━━━━━━━━━━━━\u001B[0m\u001B[37m\u001B[0m \u001B[1m1s\u001B[0m 5ms/step - acc: 0.9991 - loss: 0.4427 - val_acc: 0.9980 - val_loss: 0.3336\n",
      "Epoch 4/20\n",
      "\u001B[1m125/125\u001B[0m \u001B[32m━━━━━━━━━━━━━━━━━━━━\u001B[0m\u001B[37m\u001B[0m \u001B[1m1s\u001B[0m 5ms/step - acc: 1.0000 - loss: 0.2987 - val_acc: 0.9990 - val_loss: 0.2227\n",
      "Epoch 5/20\n",
      "\u001B[1m125/125\u001B[0m \u001B[32m━━━━━━━━━━━━━━━━━━━━\u001B[0m\u001B[37m\u001B[0m \u001B[1m1s\u001B[0m 5ms/step - acc: 1.0000 - loss: 0.1986 - val_acc: 1.0000 - val_loss: 0.1557\n",
      "Epoch 6/20\n",
      "\u001B[1m125/125\u001B[0m \u001B[32m━━━━━━━━━━━━━━━━━━━━\u001B[0m\u001B[37m\u001B[0m \u001B[1m1s\u001B[0m 5ms/step - acc: 1.0000 - loss: 0.1398 - val_acc: 1.0000 - val_loss: 0.1155\n",
      "Epoch 7/20\n",
      "\u001B[1m125/125\u001B[0m \u001B[32m━━━━━━━━━━━━━━━━━━━━\u001B[0m\u001B[37m\u001B[0m \u001B[1m1s\u001B[0m 5ms/step - acc: 1.0000 - loss: 0.1045 - val_acc: 1.0000 - val_loss: 0.0902\n",
      "Epoch 8/20\n",
      "\u001B[1m125/125\u001B[0m \u001B[32m━━━━━━━━━━━━━━━━━━━━\u001B[0m\u001B[37m\u001B[0m \u001B[1m1s\u001B[0m 5ms/step - acc: 1.0000 - loss: 0.0823 - val_acc: 1.0000 - val_loss: 0.0735\n",
      "Epoch 9/20\n",
      "\u001B[1m125/125\u001B[0m \u001B[32m━━━━━━━━━━━━━━━━━━━━\u001B[0m\u001B[37m\u001B[0m \u001B[1m1s\u001B[0m 5ms/step - acc: 1.0000 - loss: 0.0675 - val_acc: 1.0000 - val_loss: 0.0618\n",
      "Epoch 10/20\n",
      "\u001B[1m125/125\u001B[0m \u001B[32m━━━━━━━━━━━━━━━━━━━━\u001B[0m\u001B[37m\u001B[0m \u001B[1m1s\u001B[0m 5ms/step - acc: 1.0000 - loss: 0.0572 - val_acc: 1.0000 - val_loss: 0.0533\n",
      "Epoch 11/20\n",
      "\u001B[1m125/125\u001B[0m \u001B[32m━━━━━━━━━━━━━━━━━━━━\u001B[0m\u001B[37m\u001B[0m \u001B[1m1s\u001B[0m 5ms/step - acc: 1.0000 - loss: 0.0495 - val_acc: 1.0000 - val_loss: 0.0467\n",
      "Epoch 12/20\n",
      "\u001B[1m125/125\u001B[0m \u001B[32m━━━━━━━━━━━━━━━━━━━━\u001B[0m\u001B[37m\u001B[0m \u001B[1m1s\u001B[0m 5ms/step - acc: 1.0000 - loss: 0.0436 - val_acc: 1.0000 - val_loss: 0.0415\n",
      "Epoch 13/20\n",
      "\u001B[1m125/125\u001B[0m \u001B[32m━━━━━━━━━━━━━━━━━━━━\u001B[0m\u001B[37m\u001B[0m \u001B[1m1s\u001B[0m 5ms/step - acc: 1.0000 - loss: 0.0389 - val_acc: 1.0000 - val_loss: 0.0373\n",
      "Epoch 14/20\n",
      "\u001B[1m125/125\u001B[0m \u001B[32m━━━━━━━━━━━━━━━━━━━━\u001B[0m\u001B[37m\u001B[0m \u001B[1m1s\u001B[0m 5ms/step - acc: 1.0000 - loss: 0.0351 - val_acc: 1.0000 - val_loss: 0.0338\n",
      "Epoch 15/20\n",
      "\u001B[1m125/125\u001B[0m \u001B[32m━━━━━━━━━━━━━━━━━━━━\u001B[0m\u001B[37m\u001B[0m \u001B[1m1s\u001B[0m 5ms/step - acc: 1.0000 - loss: 0.0319 - val_acc: 1.0000 - val_loss: 0.0309\n",
      "Epoch 16/20\n",
      "\u001B[1m125/125\u001B[0m \u001B[32m━━━━━━━━━━━━━━━━━━━━\u001B[0m\u001B[37m\u001B[0m \u001B[1m1s\u001B[0m 6ms/step - acc: 1.0000 - loss: 0.0292 - val_acc: 1.0000 - val_loss: 0.0284\n",
      "Epoch 17/20\n",
      "\u001B[1m125/125\u001B[0m \u001B[32m━━━━━━━━━━━━━━━━━━━━\u001B[0m\u001B[37m\u001B[0m \u001B[1m1s\u001B[0m 6ms/step - acc: 1.0000 - loss: 0.0268 - val_acc: 1.0000 - val_loss: 0.0262\n",
      "Epoch 18/20\n",
      "\u001B[1m125/125\u001B[0m \u001B[32m━━━━━━━━━━━━━━━━━━━━\u001B[0m\u001B[37m\u001B[0m \u001B[1m1s\u001B[0m 5ms/step - acc: 1.0000 - loss: 0.0248 - val_acc: 1.0000 - val_loss: 0.0242\n",
      "Epoch 19/20\n",
      "\u001B[1m125/125\u001B[0m \u001B[32m━━━━━━━━━━━━━━━━━━━━\u001B[0m\u001B[37m\u001B[0m \u001B[1m1s\u001B[0m 5ms/step - acc: 1.0000 - loss: 0.0230 - val_acc: 1.0000 - val_loss: 0.0225\n",
      "Epoch 20/20\n",
      "\u001B[1m125/125\u001B[0m \u001B[32m━━━━━━━━━━━━━━━━━━━━\u001B[0m\u001B[37m\u001B[0m \u001B[1m1s\u001B[0m 5ms/step - acc: 1.0000 - loss: 0.0214 - val_acc: 1.0000 - val_loss: 0.0210\n"
     ]
    }
   ],
   "execution_count": 4
  },
  {
   "metadata": {
    "ExecuteTime": {
     "end_time": "2025-03-23T20:20:33.002643Z",
     "start_time": "2025-03-23T20:20:32.853209Z"
    }
   },
   "cell_type": "code",
   "source": [
    "# Predict test dataset\n",
    "\n",
    "out = model.predict(X_test)\n",
    "\n",
    "if y_test is not None:\n",
    "    print(model.evaluate(X_test, y_test))\n",
    "\n",
    "# Store results\n",
    "\n",
    "results_filepath = './submissao3-grupo007-s1.csv'\n",
    "\n",
    "# Ensure the directory exists\n",
    "os.makedirs(os.path.dirname(results_filepath), exist_ok=True)\n",
    "\n",
    "results = dataset.merge_results(ids, out)\n",
    "results.to_csv(results_filepath, sep='\\t', index=False)"
   ],
   "id": "c9655d7872925ea4",
   "outputs": [
    {
     "name": "stdout",
     "output_type": "stream",
     "text": [
      "\u001B[1m4/4\u001B[0m \u001B[32m━━━━━━━━━━━━━━━━━━━━\u001B[0m\u001B[37m\u001B[0m \u001B[1m0s\u001B[0m 15ms/step\n"
     ]
    }
   ],
   "execution_count": 5
  }
 ],
 "metadata": {
  "kernelspec": {
   "name": "python3",
   "language": "python",
   "display_name": "Python 3 (ipykernel)"
  }
 },
 "nbformat": 5,
 "nbformat_minor": 9
}
