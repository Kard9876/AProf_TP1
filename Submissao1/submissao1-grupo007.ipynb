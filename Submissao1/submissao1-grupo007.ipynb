{
 "cells": [
  {
   "cell_type": "code",
   "id": "initial_id",
   "metadata": {
    "collapsed": true,
    "ExecuteTime": {
     "end_time": "2025-03-13T18:24:48.126080Z",
     "start_time": "2025-03-13T18:24:44.785908Z"
    }
   },
   "source": [
    "# Import necessary libraries and classes\n",
    "\n",
    "\n",
    "# Common Imports\n",
    "\n",
    "import numpy as np\n",
    "import sys\n",
    "import os\n",
    "\n",
    "from Code.utils.dataset import Dataset\n",
    "import Code.utils.store_model as store_model\n",
    "\n",
    "# DNN imports\n",
    "\n",
    "from Code.DNN.layers.sigmoid import SigmoidActivation\n",
    "from Code.DNN.functions.metrics import mse, accuracy\n",
    "from Code.DNN.networks.neuralnet import NeuralNetwork\n",
    "from Code.DNN.functions.mse import MeanSquaredError\n",
    "from Code.DNN.layers.dense import DenseLayer as DNN_DenseLayer\n",
    "from Code.DNN.layers.dropout import DropOutLayer\n",
    "from Code.DNN.optimizations.retained_gradient import RetGradient\n",
    "from Code.DNN.optimizations.l1_reg import L1Reg\n",
    "from Code.DNN.optimizations.l2_reg import L2Reg\n",
    "from Code.DNN.functions.bce import BinaryCrossEntropy\n",
    "\n",
    "\n",
    "# Logistic Regression imports\n",
    "\n",
    "import pandas as pd\n",
    "from sklearn.feature_extraction.text import CountVectorizer\n",
    "from sklearn.metrics import accuracy_score\n",
    "\n",
    "from Code.LogisticRegression.logisticReg.logisticReg import LogisticRegression\n",
    "\n",
    "\n",
    "# RNN imports\n",
    "\n",
    "from Code.RNN.layers.sigmoid import SigmoidActivation\n",
    "from Code.RNN.functions.metrics import mse, accuracy\n",
    "from Code.RNN.networks.recorrent_neural_network import RecorrentNeuralNetwork\n",
    "from Code.RNN.functions.mse import MeanSquaredError\n",
    "from Code.RNN.layers.rnn import RNN\n",
    "from Code.RNN.layers.dense import DenseLayer as RNN_DenseLayer\n",
    "from Code.RNN.optimizations.retained_gradient import RetGradient\n",
    "from Code.RNN.functions.bce import BinaryCrossEntropy\n",
    "from Code.RNN.layers.relu import ReLUActivation"
   ],
   "outputs": [],
   "execution_count": 1
  },
  {
   "metadata": {
    "ExecuteTime": {
     "end_time": "2025-03-13T18:24:48.268294Z",
     "start_time": "2025-03-13T18:24:48.261974Z"
    }
   },
   "cell_type": "code",
   "source": [
    "# Set random seed to control randomness\n",
    "\n",
    "np.random.seed(42)"
   ],
   "id": "40cec2c8cb4857bf",
   "outputs": [],
   "execution_count": 2
  },
  {
   "metadata": {
    "ExecuteTime": {
     "end_time": "2025-03-13T18:20:56.048452Z",
     "start_time": "2025-03-13T18:20:51.923465Z"
    }
   },
   "cell_type": "code",
   "source": [
    "# Read datasets\n",
    "# Ignore if loading model from file\n",
    "\n",
    "dataset = Dataset('../Dataset/DatasetsGerados/dataset_training_input.csv',\n",
    "                      '../Dataset/DatasetsGerados/dataset_training_output.csv',\n",
    "                      '../Dataset/DatasetsGerados/dataset_validation_input.csv',\n",
    "                      '../Dataset/DatasetsGerados/dataset_validation_output.csv',\n",
    "                      '../Dataset/DatasetsGerados/dataset_test_input.csv',\n",
    "                      '../Dataset/DatasetsGerados/dataset_test_output.csv')\n",
    "\n",
    "X_train, y_train, X_validation, y_validation, X_test, y_test, ids = dataset.get_datasets('Text', 'Label', sep='\\t', rem_punctuation=False)"
   ],
   "id": "aca26f14a686e1f3",
   "outputs": [],
   "execution_count": 3
  },
  {
   "metadata": {
    "ExecuteTime": {
     "end_time": "2025-03-13T18:21:48.189460Z",
     "start_time": "2025-03-13T18:20:56.128391Z"
    }
   },
   "cell_type": "code",
   "source": [
    "# Build model 1\n",
    "\n",
    "# TODO Colocar código de construção e treino do modelo. Exemplo\n",
    "# Create network topology\n",
    "\n",
    "optimizer = RetGradient(learning_rate=0.01, momentum=0.90)\n",
    "loss = BinaryCrossEntropy()\n",
    "\n",
    "regulator = L2Reg(l2_val=0.001)\n",
    "model1 = NeuralNetwork(epochs=15, batch_size=16, optimizer=optimizer, regulator=regulator, verbose=True, loss=loss,\n",
    "                       metric=accuracy, patience=2, min_delta=0.001)\n",
    "\n",
    "n_features = X_train.shape[1]\n",
    "model1.add(DNN_DenseLayer(6, (n_features,)))\n",
    "model1.add(SigmoidActivation())\n",
    "model1.add(DropOutLayer(3, 0.5, (n_features,)))\n",
    "model1.add(DNN_DenseLayer(1))\n",
    "model1.add(SigmoidActivation())\n",
    "\n",
    "# Train network\n",
    "\n",
    "model1.fit(X_train, y_train, X_val=X_validation, y_val=y_validation)\n",
    "\n",
    "# Plot learning curves\n",
    "\n",
    "model1.plot_train_curves()"
   ],
   "id": "7ec1c68e4cc0289e",
   "outputs": [
    {
     "name": "stdout",
     "output_type": "stream",
     "text": [
      "Epoch 1/15 - loss: 2240.1456 - accuracy: 0.7050\n",
      "Epoch 2/15 - loss: 1028.2941 - accuracy: 0.9113\n",
      "Epoch 3/15 - loss: 861.8316 - accuracy: 0.9290\n",
      "Epoch 4/15 - loss: 565.8196 - accuracy: 0.9553\n",
      "Epoch 5/15 - loss: 569.4495 - accuracy: 0.9555\n",
      "Epoch 6/15 - loss: 356.9146 - accuracy: 0.9677\n",
      "Epoch 7/15 - loss: 306.6392 - accuracy: 0.9772\n",
      "Epoch 8/15 - loss: 258.1463 - accuracy: 0.9805\n",
      "Epoch 9/15 - loss: 238.1251 - accuracy: 0.9818\n",
      "Epoch 10/15 - loss: 244.8227 - accuracy: 0.9830\n",
      "Epoch 11/15 - loss: 218.1983 - accuracy: 0.9802\n",
      "Epoch 12/15 - loss: 154.5045 - accuracy: 0.9920\n",
      "Epoch 13/15 - loss: 268.0864 - accuracy: 0.9782\n",
      "Epoch 14/15 - loss: 194.0049 - accuracy: 0.9900\n",
      "Early stopping at epoch 14\n"
     ]
    }
   ],
   "execution_count": 4
  },
  {
   "metadata": {
    "ExecuteTime": {
     "end_time": "2025-03-13T18:22:41.875731Z",
     "start_time": "2025-03-13T18:21:48.259150Z"
    }
   },
   "cell_type": "code",
   "source": [
    "# Build model 2\n",
    "\n",
    "# TODO Colocar código de construção e treino do modelo. Exemplo\n",
    "# Create network topology\n",
    "\n",
    "optimizer = RetGradient(learning_rate=0.01, momentum=0.90)\n",
    "loss = BinaryCrossEntropy()\n",
    "\n",
    "regulator = L2Reg(l2_val=0.001)\n",
    "model2 = NeuralNetwork(epochs=15, batch_size=16, optimizer=optimizer, regulator=regulator, verbose=True, loss=loss,\n",
    "                       metric=accuracy, patience=2, min_delta=0.001)\n",
    "\n",
    "n_features = X_train.shape[1]\n",
    "model2.add(DNN_DenseLayer(6, (n_features,)))\n",
    "model2.add(SigmoidActivation())\n",
    "model2.add(DropOutLayer(3, 0.5, (n_features,)))\n",
    "model2.add(DNN_DenseLayer(1))\n",
    "model2.add(SigmoidActivation())\n",
    "\n",
    "# Train network\n",
    "\n",
    "model2.fit(X_train, y_train, X_val=X_validation, y_val=y_validation)\n",
    "\n",
    "# Plot learning curves\n",
    "\n",
    "model2.plot_train_curves()"
   ],
   "id": "8d8f96b9fb6e31eb",
   "outputs": [
    {
     "name": "stdout",
     "output_type": "stream",
     "text": [
      "Epoch 1/15 - loss: 1964.9048 - accuracy: 0.7508\n",
      "Epoch 2/15 - loss: 836.0686 - accuracy: 0.9303\n",
      "Epoch 3/15 - loss: 519.1306 - accuracy: 0.9615\n",
      "Epoch 4/15 - loss: 458.9785 - accuracy: 0.9597\n",
      "Epoch 5/15 - loss: 433.6421 - accuracy: 0.9660\n",
      "Epoch 6/15 - loss: 368.9321 - accuracy: 0.9695\n",
      "Epoch 7/15 - loss: 301.6790 - accuracy: 0.9802\n",
      "Epoch 8/15 - loss: 298.2515 - accuracy: 0.9765\n",
      "Epoch 9/15 - loss: 268.9679 - accuracy: 0.9805\n",
      "Epoch 10/15 - loss: 222.6463 - accuracy: 0.9832\n",
      "Epoch 11/15 - loss: 287.8381 - accuracy: 0.9805\n",
      "Epoch 12/15 - loss: 221.1917 - accuracy: 0.9872\n",
      "Epoch 13/15 - loss: 168.1024 - accuracy: 0.9888\n",
      "Epoch 14/15 - loss: 337.2214 - accuracy: 0.9815\n",
      "Epoch 15/15 - loss: 226.1162 - accuracy: 0.9835\n",
      "Early stopping at epoch 15\n"
     ]
    }
   ],
   "execution_count": 5
  },
  {
   "metadata": {
    "ExecuteTime": {
     "end_time": "2025-03-13T18:24:34.443454Z",
     "start_time": "2025-03-13T18:24:34.293751Z"
    }
   },
   "cell_type": "code",
   "source": [
    "# Test model 1\n",
    "\n",
    "# Predict test dataset\n",
    "\n",
    "out = model1.predict(X_test)\n",
    "\n",
    "if y_test is not None:\n",
    "    print(model1.score(y_test, out))\n",
    "\n",
    "# Store results\n",
    "\n",
    "# TODO alterar para nome correto\n",
    "results_filepath = './Results/model1_results.csv'\n",
    "\n",
    "# Ensure the directory exists\n",
    "os.makedirs(os.path.dirname(results_filepath), exist_ok=True)\n",
    "\n",
    "results = dataset.merge_results(ids, out)\n",
    "results.to_csv(results_filepath, sep='\\t', index=False)"
   ],
   "id": "c028b2fe91899fb1",
   "outputs": [
    {
     "name": "stdout",
     "output_type": "stream",
     "text": [
      "0.982\n"
     ]
    }
   ],
   "execution_count": 6
  },
  {
   "metadata": {
    "ExecuteTime": {
     "end_time": "2025-03-13T18:24:58.224132Z",
     "start_time": "2025-03-13T18:24:58.063797Z"
    }
   },
   "cell_type": "code",
   "source": [
    "# Test model 1\n",
    "\n",
    "# Predict test dataset\n",
    "\n",
    "out = model2.predict(X_test)\n",
    "\n",
    "if y_test is not None:\n",
    "    print(model2.score(y_test, out))\n",
    "\n",
    "# Store results\n",
    "\n",
    "# TODO alterar para nome correto\n",
    "results_filepath = './Results/model2_results.csv'\n",
    "\n",
    "# Ensure the directory exists\n",
    "os.makedirs(os.path.dirname(results_filepath), exist_ok=True)\n",
    "\n",
    "results = dataset.merge_results(ids, out)\n",
    "results.to_csv(results_filepath, sep='\\t', index=False)"
   ],
   "id": "db049682b7cbe80f",
   "outputs": [
    {
     "name": "stdout",
     "output_type": "stream",
     "text": [
      "0.988\n"
     ]
    }
   ],
   "execution_count": 4
  },
  {
   "metadata": {
    "ExecuteTime": {
     "end_time": "2025-03-13T18:22:43.334695Z",
     "start_time": "2025-03-13T18:22:42.418685Z"
    }
   },
   "cell_type": "code",
   "source": [
    "# Store model1 and Dataset class\n",
    "\n",
    "dataset_filepath = './Model/dataset'\n",
    "dataset_key = 'dataset'\n",
    "\n",
    "store_model.store_model(dataset_filepath, dataset_key, dataset)\n",
    "\n",
    "# Store network model\n",
    "\n",
    "model1_filepath = './Model/model1'\n",
    "model1_key = 'model1'\n",
    "\n",
    "store_model.store_model(model1_filepath, model1_key, model1)"
   ],
   "id": "2cbb56f00deed62f",
   "outputs": [],
   "execution_count": 8
  },
  {
   "metadata": {
    "ExecuteTime": {
     "end_time": "2025-03-13T18:22:44.004235Z",
     "start_time": "2025-03-13T18:22:43.404187Z"
    }
   },
   "cell_type": "code",
   "source": [
    "# Store model2 and Dataset class\n",
    "\n",
    "dataset_filepath = './Model/dataset'\n",
    "dataset_key = 'dataset'\n",
    "\n",
    "store_model.store_model(dataset_filepath, dataset_key, dataset)\n",
    "\n",
    "# Store network model\n",
    "\n",
    "model2_filepath = './Model/model2'\n",
    "model2_key = 'model2'\n",
    "\n",
    "store_model.store_model(model2_filepath, model2_key, model2)"
   ],
   "id": "5a27ced03a43bdb4",
   "outputs": [],
   "execution_count": 9
  },
  {
   "metadata": {
    "ExecuteTime": {
     "end_time": "2025-03-13T18:24:31.296862Z",
     "start_time": "2025-03-13T18:24:30.631478Z"
    }
   },
   "cell_type": "code",
   "source": [
    "# Retrieve model1 and Dataset class\n",
    "\n",
    "# Retrieve Dataset class\n",
    "\n",
    "dataset_filepath = './Model/dataset'\n",
    "dataset_key = 'dataset'\n",
    "\n",
    "dataset = store_model.retrieve_model(dataset_filepath, dataset_key)\n",
    "\n",
    "# Retrieve model1\n",
    "\n",
    "model1_filepath = './Model/model1'\n",
    "model1_key = 'model1'\n",
    "\n",
    "model1 = store_model.retrieve_model(model1_filepath, model1_key)\n",
    "\n",
    "# Load test dataset. If y_test doesn't exist, second parameter should be None\n",
    "\n",
    "dataset.set_dataset_test('../Dataset/DatasetsGerados/dataset_test_input.csv',\n",
    "                      '../Dataset/DatasetsGerados/dataset_test_output.csv')\n",
    "\n",
    "X_test, y_test, ids = dataset.get_test_dataset('Text', 'Label', sep='\\t', rem_punctuation=False)"
   ],
   "id": "5bb3e44258ee8e8",
   "outputs": [],
   "execution_count": 5
  },
  {
   "metadata": {
    "ExecuteTime": {
     "end_time": "2025-03-13T18:24:50.926789Z",
     "start_time": "2025-03-13T18:24:50.267155Z"
    }
   },
   "cell_type": "code",
   "source": [
    "# Retrieve model2 and Dataset class\n",
    "\n",
    "# Retrieve Dataset class\n",
    "\n",
    "dataset_filepath = './Model/dataset'\n",
    "dataset_key = 'dataset'\n",
    "\n",
    "dataset = store_model.retrieve_model(dataset_filepath, dataset_key)\n",
    "\n",
    "# Retrieve model1\n",
    "\n",
    "model2_filepath = './Model/model2'\n",
    "model2_key = 'model2'\n",
    "\n",
    "model2 = store_model.retrieve_model(model2_filepath, model2_key)\n",
    "\n",
    "# Load test dataset. If y_test doesn't exist, second parameter should be None\n",
    "\n",
    "dataset.set_dataset_test('../Dataset/DatasetsGerados/dataset_test_input.csv',\n",
    "                      '../Dataset/DatasetsGerados/dataset_test_output.csv')\n",
    "\n",
    "X_test, y_test, ids = dataset.get_test_dataset('Text', 'Label', sep='\\t', rem_punctuation=False)"
   ],
   "id": "36e772ba6b1604a2",
   "outputs": [],
   "execution_count": 3
  }
 ],
 "metadata": {
  "kernelspec": {
   "display_name": "Python 3",
   "language": "python",
   "name": "python3"
  },
  "language_info": {
   "codemirror_mode": {
    "name": "ipython",
    "version": 2
   },
   "file_extension": ".py",
   "mimetype": "text/x-python",
   "name": "python",
   "nbconvert_exporter": "python",
   "pygments_lexer": "ipython2",
   "version": "2.7.6"
  }
 },
 "nbformat": 4,
 "nbformat_minor": 5
}
