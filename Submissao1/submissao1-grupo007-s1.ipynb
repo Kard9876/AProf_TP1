{
 "cells": [
  {
   "metadata": {
    "ExecuteTime": {
     "end_time": "2025-03-16T20:31:29.267772Z",
     "start_time": "2025-03-16T20:31:23.852097Z"
    }
   },
   "cell_type": "code",
   "source": [
    "# Import necessary libraries and classes\n",
    "\n",
    "\n",
    "# Common Imports\n",
    "\n",
    "import numpy as np\n",
    "import sys\n",
    "import os\n",
    "\n",
    "from Code.utils.dataset import Dataset\n",
    "import Code.utils.store_model as store_model\n",
    "\n",
    "# DNN imports\n",
    "\n",
    "from Code.DNN.layers.sigmoid import SigmoidActivation\n",
    "from Code.DNN.functions.metrics import mse, accuracy\n",
    "from Code.DNN.networks.neuralnet import NeuralNetwork\n",
    "from Code.DNN.functions.mse import MeanSquaredError\n",
    "from Code.DNN.layers.dense import DenseLayer\n",
    "from Code.DNN.layers.dropout import DropOutLayer\n",
    "from Code.DNN.optimizations.retained_gradient import RetGradient\n",
    "from Code.DNN.optimizations.l1_reg import L1Reg\n",
    "from Code.DNN.optimizations.l2_reg import L2Reg\n",
    "from Code.DNN.functions.bce import BinaryCrossEntropy"
   ],
   "id": "9ea01dfa5c86abaa",
   "outputs": [],
   "execution_count": 1
  },
  {
   "metadata": {
    "ExecuteTime": {
     "end_time": "2025-03-16T20:31:29.412908Z",
     "start_time": "2025-03-16T20:31:29.406797Z"
    }
   },
   "cell_type": "code",
   "source": [
    "# Set random seed to control randomness\n",
    "\n",
    "np.random.seed(42)"
   ],
   "id": "4821610cceac2445",
   "outputs": [],
   "execution_count": 2
  },
  {
   "metadata": {
    "ExecuteTime": {
     "end_time": "2025-03-16T20:31:31.169517Z",
     "start_time": "2025-03-16T20:31:29.869218Z"
    }
   },
   "cell_type": "code",
   "source": [
    "# Read datasets\n",
    "# Ignore if loading model from file\n",
    "\n",
    "dataset = Dataset('../Dataset/DatasetsGerados/dataset_training_input.csv',\n",
    "                      '../Dataset/DatasetsGerados/dataset_training_output.csv',\n",
    "                      '../Dataset/DatasetsGerados/dataset_validation_input.csv',\n",
    "                      '../Dataset/DatasetsGerados/dataset_validation_output.csv',\n",
    "                      '../Dataset/dataset2_inputs.csv',\n",
    "                      None)\n",
    "\n",
    "X_train, y_train, X_validation, y_validation, X_test, y_test, ids = dataset.get_datasets('Text', 'Label', sep='\\t', rem_punctuation=False)"
   ],
   "id": "e4644d8e99592596",
   "outputs": [],
   "execution_count": 3
  },
  {
   "metadata": {
    "ExecuteTime": {
     "end_time": "2025-03-16T20:34:07.075255Z",
     "start_time": "2025-03-16T20:31:31.234111Z"
    }
   },
   "cell_type": "code",
   "source": [
    "# Build model\n",
    "\n",
    "optimizer = RetGradient(learning_rate=0.0034, momentum=0.65)\n",
    "loss = BinaryCrossEntropy()\n",
    "\n",
    "regulator = L2Reg(l2_val=0.05)\n",
    "model = NeuralNetwork(epochs=60, batch_size=30, optimizer=optimizer, regulator=regulator, verbose=True, loss=loss,\n",
    "                    metric=accuracy, patience=50, min_delta=0.001)\n",
    "\n",
    "n_features = X_train.shape[1]\n",
    "model.add(DenseLayer(32, (n_features,)))\n",
    "model.add(SigmoidActivation())\n",
    "model.add(DenseLayer(16, (n_features)))\n",
    "model.add(SigmoidActivation())\n",
    "model.add(DropOutLayer(8, 0.8, (n_features,)))\n",
    "model.add(DenseLayer(1))\n",
    "model.add(SigmoidActivation())\n",
    "\n",
    "# Train network\n",
    "\n",
    "model.fit(X_train, y_train, X_val=X_validation, y_val=y_validation)\n",
    "\n",
    "# Plot learning curves\n",
    "\n",
    "model.plot_train_curves()"
   ],
   "id": "ca2570308fb1eb5e",
   "outputs": [
    {
     "name": "stdout",
     "output_type": "stream",
     "text": [
      "Epoch 1/60 - loss: 2162.4801 - accuracy: 0.5160\n",
      "Epoch 2/60 - loss: 2070.4819 - accuracy: 0.5220\n",
      "Epoch 3/60 - loss: 2076.9348 - accuracy: 0.5243\n",
      "Epoch 4/60 - loss: 2073.4513 - accuracy: 0.5213\n",
      "Epoch 5/60 - loss: 2062.4530 - accuracy: 0.5353\n",
      "Epoch 6/60 - loss: 2075.2192 - accuracy: 0.5120\n",
      "Epoch 7/60 - loss: 2089.4843 - accuracy: 0.4987\n",
      "Epoch 8/60 - loss: 2069.3447 - accuracy: 0.5310\n",
      "Epoch 9/60 - loss: 2073.5352 - accuracy: 0.5110\n",
      "Epoch 10/60 - loss: 2066.6801 - accuracy: 0.5367\n",
      "Epoch 11/60 - loss: 2062.6952 - accuracy: 0.5507\n",
      "Epoch 12/60 - loss: 2074.7530 - accuracy: 0.5267\n",
      "Epoch 13/60 - loss: 2070.8847 - accuracy: 0.5227\n",
      "Epoch 14/60 - loss: 2073.1197 - accuracy: 0.5257\n",
      "Epoch 15/60 - loss: 2063.8659 - accuracy: 0.5367\n",
      "Epoch 16/60 - loss: 2057.2843 - accuracy: 0.5410\n",
      "Epoch 17/60 - loss: 2017.9758 - accuracy: 0.5820\n",
      "Epoch 18/60 - loss: 1896.6750 - accuracy: 0.6647\n",
      "Epoch 19/60 - loss: 1642.4253 - accuracy: 0.7743\n",
      "Epoch 20/60 - loss: 1302.7809 - accuracy: 0.8413\n",
      "Epoch 21/60 - loss: 937.9390 - accuracy: 0.8990\n",
      "Epoch 22/60 - loss: 682.1944 - accuracy: 0.9310\n",
      "Epoch 23/60 - loss: 495.1630 - accuracy: 0.9520\n",
      "Epoch 24/60 - loss: 417.5348 - accuracy: 0.9600\n",
      "Epoch 25/60 - loss: 326.6721 - accuracy: 0.9763\n",
      "Epoch 26/60 - loss: 266.8292 - accuracy: 0.9797\n",
      "Epoch 27/60 - loss: 217.9939 - accuracy: 0.9840\n",
      "Epoch 28/60 - loss: 179.2987 - accuracy: 0.9860\n",
      "Epoch 29/60 - loss: 156.9335 - accuracy: 0.9850\n",
      "Epoch 30/60 - loss: 158.3142 - accuracy: 0.9867\n",
      "Epoch 31/60 - loss: 132.4976 - accuracy: 0.9867\n",
      "Epoch 32/60 - loss: 108.8378 - accuracy: 0.9927\n",
      "Epoch 33/60 - loss: 93.2767 - accuracy: 0.9963\n",
      "Epoch 34/60 - loss: 91.8331 - accuracy: 0.9973\n",
      "Epoch 35/60 - loss: 119.4165 - accuracy: 0.9947\n",
      "Epoch 36/60 - loss: 108.3270 - accuracy: 0.9927\n",
      "Epoch 37/60 - loss: 117.0831 - accuracy: 0.9933\n",
      "Epoch 38/60 - loss: 81.9463 - accuracy: 0.9977\n",
      "Epoch 39/60 - loss: 94.6101 - accuracy: 0.9980\n",
      "Epoch 40/60 - loss: 86.0468 - accuracy: 0.9980\n",
      "Epoch 41/60 - loss: 94.0235 - accuracy: 0.9950\n",
      "Epoch 42/60 - loss: 89.8336 - accuracy: 0.9953\n",
      "Epoch 43/60 - loss: 66.7220 - accuracy: 0.9997\n",
      "Epoch 44/60 - loss: 76.8099 - accuracy: 0.9993\n",
      "Epoch 45/60 - loss: 117.8033 - accuracy: 0.9980\n",
      "Epoch 46/60 - loss: 66.1615 - accuracy: 0.9990\n",
      "Epoch 47/60 - loss: 132.3601 - accuracy: 0.9887\n",
      "Epoch 48/60 - loss: 134.4647 - accuracy: 0.9923\n",
      "Epoch 49/60 - loss: 120.3086 - accuracy: 0.9887\n",
      "Epoch 50/60 - loss: 63.3828 - accuracy: 0.9993\n",
      "Epoch 51/60 - loss: 119.7092 - accuracy: 0.9773\n",
      "Epoch 52/60 - loss: 70.2156 - accuracy: 0.9993\n",
      "Epoch 53/60 - loss: 406.8491 - accuracy: 0.9520\n",
      "Epoch 54/60 - loss: 92.3888 - accuracy: 0.9783\n",
      "Epoch 55/60 - loss: 254.7233 - accuracy: 0.9793\n",
      "Epoch 56/60 - loss: 543.8121 - accuracy: 0.9753\n",
      "Epoch 57/60 - loss: 799.4766 - accuracy: 0.9570\n",
      "Epoch 58/60 - loss: 12.2042 - accuracy: 1.0000\n",
      "Epoch 59/60 - loss: 29.7194 - accuracy: 0.9997\n",
      "Epoch 60/60 - loss: 518.1611 - accuracy: 0.9453\n"
     ]
    }
   ],
   "execution_count": 4
  },
  {
   "metadata": {
    "ExecuteTime": {
     "end_time": "2025-03-16T20:34:07.268819Z",
     "start_time": "2025-03-16T20:34:07.239303Z"
    }
   },
   "cell_type": "code",
   "source": [
    "# Test model\n",
    "\n",
    "# Predict test dataset\n",
    "\n",
    "out = model.predict(X_test)\n",
    "\n",
    "if y_test is not None:\n",
    "    print(model.score(y_test, out))\n",
    "\n",
    "# Store results\n",
    "\n",
    "results_filepath = './submissao1-grupo007-s1.csv'\n",
    "\n",
    "# Ensure the directory exists\n",
    "os.makedirs(os.path.dirname(results_filepath), exist_ok=True)\n",
    "\n",
    "results = dataset.merge_results(ids, out)\n",
    "results.to_csv(results_filepath, sep='\\t', index=False)"
   ],
   "id": "c9655d7872925ea4",
   "outputs": [],
   "execution_count": 5
  },
  {
   "metadata": {
    "ExecuteTime": {
     "end_time": "2025-03-16T20:34:07.369176Z",
     "start_time": "2025-03-16T20:34:07.285387Z"
    }
   },
   "cell_type": "code",
   "source": [
    "# Store model and Dataset class\n",
    "\n",
    "dataset_filepath = './Model/dataset-s1'\n",
    "dataset_key = 'dataset-s1'\n",
    "\n",
    "store_model.store_model(dataset_filepath, dataset_key, dataset)\n",
    "\n",
    "# Store network model\n",
    "\n",
    "model_filepath = './Model/model-s1'\n",
    "model_key = 'model-s1'\n",
    "\n",
    "store_model.store_model(model_filepath, model_key, model)"
   ],
   "id": "3328f22bf9cfe94b",
   "outputs": [],
   "execution_count": 6
  },
  {
   "metadata": {
    "ExecuteTime": {
     "end_time": "2025-03-16T20:34:07.542573Z",
     "start_time": "2025-03-16T20:34:07.426720Z"
    }
   },
   "cell_type": "code",
   "source": [
    "# Retrieve model and Dataset class\n",
    "\n",
    "# Retrieve Dataset class\n",
    "\n",
    "dataset_filepath = './Model/dataset-s1'\n",
    "dataset_key = 'dataset-s1'\n",
    "\n",
    "dataset = store_model.retrieve_model(dataset_filepath, dataset_key)\n",
    "\n",
    "# Retrieve model\n",
    "\n",
    "model_filepath = './Model/model-s1'\n",
    "model_key = 'model-s1'\n",
    "\n",
    "model = store_model.retrieve_model(model_filepath, model_key)\n",
    "\n",
    "# Load test dataset. If y_test doesn't exist, second parameter should be None\n",
    "\n",
    "dataset.set_dataset_test('../Dataset/dataset2_inputs.csv',\n",
    "                      None)\n",
    "\n",
    "X_test, y_test, ids = dataset.get_test_dataset('Text', 'Label', sep='\\t', rem_punctuation=False)"
   ],
   "id": "cc508c7eeafcaae6",
   "outputs": [],
   "execution_count": 7
  }
 ],
 "metadata": {
  "kernelspec": {
   "name": "python3",
   "language": "python",
   "display_name": "Python 3 (ipykernel)"
  }
 },
 "nbformat": 5,
 "nbformat_minor": 9
}
